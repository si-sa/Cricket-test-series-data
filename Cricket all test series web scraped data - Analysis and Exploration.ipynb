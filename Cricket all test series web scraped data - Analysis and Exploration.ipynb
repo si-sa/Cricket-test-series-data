{
 "cells": [
  {
   "cell_type": "markdown",
   "metadata": {},
   "source": [
    "## Data Inspiration\n",
    "<p>I was watching cricket match yesterday. India vs WestIndies. Both Rohit and Virat were well settled on crease with 200 run partnership and counting. virat was close to 150 and i saw a dialog box on TV stating kohli just needs another 154 runs to reach 10k Runs. To join the groups of elite Batsmen including Sachin, Pointing and Dravid. I was little surprised to see him reach close to the milestone so soon. </p>\n",
    "<p>Then it stuck me, the amount of data in cricket. There's huge data in cricket. Data from 4's and 6's by a batsman in a match to number of balls faced in his test career.</p>\n",
    "<p>It din't take me long to search for perfect website to find those stats. In India, cricket is a religion after all. I landed on cricinfo, searched for stats and found <a href='http://stats.espncricinfo.com/ci/content/records/335431.html'>this</a> webpage containing data of every single test match ever recorded or reported.</p>\n",
    "<p>So, i dug in, scraped the data and analysed every stat i could imagine</p>"
   ]
  },
  {
   "cell_type": "code",
   "execution_count": 1,
   "metadata": {},
   "outputs": [],
   "source": [
    "import requests"
   ]
  },
  {
   "cell_type": "code",
   "execution_count": 2,
   "metadata": {},
   "outputs": [
    {
     "data": {
      "text/plain": [
       "'\\n<!DOCTYPE html PUBLIC \"-//W3C//DTD XHTML 1.0 Transitional//EN\" \"http://www.w3.org/TR/xhtml1/DTD/xhtml1-transitional.dtd\">\\n<!-- hostname: web001, edition-view: espncricinfo-en-in, country: unknown, cluster: www, created: 2018-10-23 14:44:24 -->\\n<html xmlns=\"http://www.w3.org/1999/xhtml\" xmlns:fb=\"http://www.facebook.com/2008/fbml\" xmlns:og=\"http://opengraphprotocol.org/schema/\" xmlns:fb=\"http://developers.facebook.com/schema/\" >\\n<head>\\n <script type=\"text/javascript\">var _sf_startpt=(new Date())'"
      ]
     },
     "execution_count": 2,
     "metadata": {},
     "output_type": "execute_result"
    }
   ],
   "source": [
    "r = requests.get('http://stats.espncricinfo.com/ci/content/records/335431.html')\n",
    "r.text[0:500]"
   ]
  },
  {
   "cell_type": "code",
   "execution_count": 3,
   "metadata": {},
   "outputs": [],
   "source": [
    "from bs4 import BeautifulSoup  \n",
    "soup = BeautifulSoup(r.text, 'html.parser')"
   ]
  },
  {
   "cell_type": "code",
   "execution_count": 4,
   "metadata": {},
   "outputs": [
    {
     "name": "stdout",
     "output_type": "stream",
     "text": [
      "The resulting object is of type <class 'bs4.element.ResultSet'>\n",
      "Total number of results, i.e total no of tests played till date are: 738\n"
     ]
    }
   ],
   "source": [
    "stats = soup.find_all('tr', attrs={'class':'data1'})\n",
    "print(\"The resulting object is of type {}\".format(type(stats)))\n",
    "print(\"Total number of results, i.e total no of tests played till date are: {}\".format(len(stats)))"
   ]
  },
  {
   "cell_type": "markdown",
   "metadata": {},
   "source": [
    "The Whole Data is present in form of a list in the <i>bs4.element.ResultSet</i>. \n",
    "<p>Each test series is in form of an element in list.</p>\n",
    "<p>Below is the structure of data in each element</p>"
   ]
  },
  {
   "cell_type": "code",
   "execution_count": 5,
   "metadata": {},
   "outputs": [
    {
     "data": {
      "text/plain": [
       "<tr class=\"data1\" data-days=\"685654\">\n",
       "<td class=\"left\"><a class=\"data-link\" href=\"/ci/engine/series/60260.html\">England in Australia Test Series</a></td>\n",
       "<td class=\"left\" nowrap=\"nowrap\">1876/77</td>\n",
       "<td nowrap=\"nowrap\"></td>\n",
       "<td class=\"left\" nowrap=\"nowrap\"><a class=\"data-link\" href=\"/ci/content/team/1126861.html\">drawn</a></td>\n",
       "<td nowrap=\"nowrap\">1-1 (2)</td>\n",
       "</tr>"
      ]
     },
     "execution_count": 5,
     "metadata": {},
     "output_type": "execute_result"
    }
   ],
   "source": [
    "stats[0]"
   ]
  },
  {
   "cell_type": "markdown",
   "metadata": {},
   "source": [
    "### Data Structure of each table row of the data table\n",
    "- The Number 685654 in data-days attribute. Such numbers notably unique are present in all elements. must mean something.\n",
    "- The pathname of link to direct to page containing the test series results\n",
    "- The Test Series teams playing. It gives information about the home team and the away team.\n",
    "- The year the test series is played in\n",
    "- A link inside 4th td tag leading to the winning team's page. It's throwing 404 (Page not Found) error for drawn series.\n",
    "- The numerical Result of the series\n",
    "- Total number of matches played in the series. ( Given in the Bracket )"
   ]
  },
  {
   "cell_type": "markdown",
   "metadata": {},
   "source": [
    "So, the features (and it's values as per the first row) can be :\n",
    "<p>\n",
    "    <b>data-days</b> 685654<br>\n",
    "    <b>Match link</b> /ci/engine/series/60260.html<br>\n",
    "    <b>teams playing</b> England in Australia Test Series<br>\n",
    "    <b>Year</b> 1876/77<br>\n",
    "    <b>Team Won</b> Drawn<br>\n",
    "    <b>Result</b> 1-1 (first number corresponds to winner)<br>\n",
    "    <b>Matches Played</b> 2<br>\n",
    "</p>\n",
    "\n",
    "<p>The Dataframe would look something like this: </p>\n",
    "<table>\n",
    "    <thead>\n",
    "    <tr>\n",
    "        <td><b>data-days</b></td>\n",
    "        <td><b>Series link</b></td>\n",
    "        <td><b>Teams playing</b></td>\n",
    "        <td><b>Year</b></td>\n",
    "        <td><b>Team Won</b></td>\n",
    "        <td><b>Result</b></td>\n",
    "        <td><b>Matches Played</b></td>\n",
    "    </tr>\n",
    "    </thead>\n",
    "    <tr>\n",
    "        <td>685654<br></td>\n",
    "        <td>/ci/engine/series/60260.html<br></td>\n",
    "        <td>England in Australia Test Series<br></td>\n",
    "        <td>1876/77<br></td>\n",
    "        <td>Drawn<br></td>\n",
    "        <td>1-1<br></td>\n",
    "        <td>2<br></td>\n",
    "    </tr>\n",
    "</table>"
   ]
  },
  {
   "cell_type": "markdown",
   "metadata": {},
   "source": [
    "- We can Further divide the Team playing into Home team and away team. Some of the Series have Series name embedded in this section. So, we can add another column <b>Series Name</b> to it. \n",
    "- We can divide the Year to series <b>starting Year</b> and <b>ending Year</b>\n",
    "- The Result can be divided into <b>Home wins</b> and <b>away wins</b>"
   ]
  },
  {
   "cell_type": "markdown",
   "metadata": {},
   "source": [
    "<p>With updated features, the dataframe would look like this: </p>\n",
    "<table>\n",
    "    <thead>\n",
    "    <tr>\n",
    "        <td><b>datadaysId</b></td>\n",
    "        <td><b>Link</b></td>\n",
    "        <td><b>Name</b></td>\n",
    "        <td><b>Home</b></td>\n",
    "        <td><b>Away</b></td>\n",
    "        <td><b>startYear</b></td>\n",
    "        <td><b>endYear</b></td>\n",
    "        <td><b>TeamWon</b></td>\n",
    "        <td><b>HomeWins</b></td>\n",
    "        <td><b>AwayWins</b></td>\n",
    "        <td><b>Matches</b></td>\n",
    "    </tr>\n",
    "    </thead>\n",
    "    <tr>\n",
    "        <td>685654</td>\n",
    "        <td>/ci/engine/series/60260.html</td>\n",
    "        <td></td>\n",
    "        <td>Australia</td>\n",
    "        <td>England</td>\n",
    "        <td>1876</td>\n",
    "        <td>1877</td>\n",
    "        <td>Drawn</td>\n",
    "        <td>1</td>\n",
    "        <td>1</td>\n",
    "        <td>2</td>\n",
    "    </tr>\n",
    "</table>"
   ]
  },
  {
   "cell_type": "markdown",
   "metadata": {},
   "source": [
    "Now that we have format of the features, let's separate the values from the bs4 Resultset"
   ]
  },
  {
   "cell_type": "code",
   "execution_count": 6,
   "metadata": {},
   "outputs": [
    {
     "data": {
      "text/plain": [
       "<tr class=\"data1\" data-days=\"737346\">\n",
       "<td class=\"left\"><a class=\"data-link\" href=\"/ci/engine/series/1157748.html\">West Indies in India Test Series</a></td>\n",
       "<td class=\"left\" nowrap=\"nowrap\">2018/19</td>\n",
       "<td nowrap=\"nowrap\"></td>\n",
       "<td class=\"left\" nowrap=\"nowrap\"><a class=\"data-link\" href=\"/ci/content/team/6.html\">India</a></td>\n",
       "<td nowrap=\"nowrap\">2-0 (2)</td>\n",
       "</tr>"
      ]
     },
     "execution_count": 6,
     "metadata": {},
     "output_type": "execute_result"
    }
   ],
   "source": [
    "final_result = stats[-2]\n",
    "final_result"
   ]
  },
  {
   "cell_type": "markdown",
   "metadata": {},
   "source": [
    "This series is the inspiration for my data. So, this data is updated till date."
   ]
  },
  {
   "cell_type": "code",
   "execution_count": 8,
   "metadata": {},
   "outputs": [],
   "source": [
    "records = []\n",
    "for series in stats:\n",
    "    datadaysId = int(series['data-days'])\n",
    "    Link = series.find('a').get('href')\n",
    "    teams_text = series.find_all('td')[0].text\n",
    "    years = series.find_all('td')[1].text\n",
    "    winner = series.find_all('td')[3].text\n",
    "    result = series.find_all('td')[4].text\n",
    "    records.append((datadaysId, Link, teams_text, years, winner, result))"
   ]
  },
  {
   "cell_type": "code",
   "execution_count": 9,
   "metadata": {},
   "outputs": [
    {
     "data": {
      "text/plain": [
       "[(737313,\n",
       "  '/ci/engine/series/1119531.html',\n",
       "  'Pataudi Trophy (India in England)',\n",
       "  '2018',\n",
       "  'England',\n",
       "  '4-1 (5)'),\n",
       " (737346,\n",
       "  '/ci/engine/series/1157748.html',\n",
       "  'West Indies in India Test Series',\n",
       "  '2018/19',\n",
       "  'India',\n",
       "  '2-0 (2)'),\n",
       " (737351,\n",
       "  '/ci/engine/series/1157363.html',\n",
       "  'Pakistan v Australia Test Series (in United Arab Emirates)',\n",
       "  '2018/19',\n",
       "  'Pakistan',\n",
       "  '1-0 (2)')]"
      ]
     },
     "execution_count": 9,
     "metadata": {},
     "output_type": "execute_result"
    }
   ],
   "source": [
    "records[-3:]"
   ]
  },
  {
   "cell_type": "code",
   "execution_count": 10,
   "metadata": {},
   "outputs": [],
   "source": [
    "import pandas as pd\n",
    "series = pd.DataFrame(records, columns=['datadaysID', 'link', 'teams_text', 'years', 'winner', 'result'])"
   ]
  },
  {
   "cell_type": "code",
   "execution_count": 17,
   "metadata": {},
   "outputs": [
    {
     "data": {
      "text/html": [
       "<div>\n",
       "<style scoped>\n",
       "    .dataframe tbody tr th:only-of-type {\n",
       "        vertical-align: middle;\n",
       "    }\n",
       "\n",
       "    .dataframe tbody tr th {\n",
       "        vertical-align: top;\n",
       "    }\n",
       "\n",
       "    .dataframe thead th {\n",
       "        text-align: right;\n",
       "    }\n",
       "</style>\n",
       "<table border=\"1\" class=\"dataframe\">\n",
       "  <thead>\n",
       "    <tr style=\"text-align: right;\">\n",
       "      <th></th>\n",
       "      <th>datadaysID</th>\n",
       "      <th>link</th>\n",
       "      <th>teams_text</th>\n",
       "      <th>years</th>\n",
       "      <th>winner</th>\n",
       "      <th>result</th>\n",
       "    </tr>\n",
       "  </thead>\n",
       "  <tbody>\n",
       "    <tr>\n",
       "      <th>0</th>\n",
       "      <td>685654</td>\n",
       "      <td>/ci/engine/series/60260.html</td>\n",
       "      <td>England in Australia Test Series</td>\n",
       "      <td>1876/77</td>\n",
       "      <td>drawn</td>\n",
       "      <td>1-1 (2)</td>\n",
       "    </tr>\n",
       "    <tr>\n",
       "      <th>1</th>\n",
       "      <td>686294</td>\n",
       "      <td>/ci/engine/series/60261.html</td>\n",
       "      <td>England in Australia Test Match</td>\n",
       "      <td>1878/79</td>\n",
       "      <td>Australia</td>\n",
       "      <td>1-0 (1)</td>\n",
       "    </tr>\n",
       "    <tr>\n",
       "      <th>2</th>\n",
       "      <td>686907</td>\n",
       "      <td>/ci/engine/series/60262.html</td>\n",
       "      <td>Australia in England Test Match</td>\n",
       "      <td>1880</td>\n",
       "      <td>England</td>\n",
       "      <td>1-0 (1)</td>\n",
       "    </tr>\n",
       "    <tr>\n",
       "      <th>3</th>\n",
       "      <td>687459</td>\n",
       "      <td>/ci/engine/series/60263.html</td>\n",
       "      <td>England in Australia Test Series</td>\n",
       "      <td>1881/82</td>\n",
       "      <td>Australia</td>\n",
       "      <td>2-0 (4)</td>\n",
       "    </tr>\n",
       "    <tr>\n",
       "      <th>4</th>\n",
       "      <td>687627</td>\n",
       "      <td>/ci/engine/series/60264.html</td>\n",
       "      <td>Australia in England Test Match</td>\n",
       "      <td>1882</td>\n",
       "      <td>Australia</td>\n",
       "      <td>1-0 (1)</td>\n",
       "    </tr>\n",
       "  </tbody>\n",
       "</table>\n",
       "</div>"
      ],
      "text/plain": [
       "   datadaysID                          link                        teams_text  \\\n",
       "0      685654  /ci/engine/series/60260.html  England in Australia Test Series   \n",
       "1      686294  /ci/engine/series/60261.html   England in Australia Test Match   \n",
       "2      686907  /ci/engine/series/60262.html   Australia in England Test Match   \n",
       "3      687459  /ci/engine/series/60263.html  England in Australia Test Series   \n",
       "4      687627  /ci/engine/series/60264.html   Australia in England Test Match   \n",
       "\n",
       "     years     winner   result  \n",
       "0  1876/77      drawn  1-1 (2)  \n",
       "1  1878/79  Australia  1-0 (1)  \n",
       "2     1880    England  1-0 (1)  \n",
       "3  1881/82  Australia  2-0 (4)  \n",
       "4     1882  Australia  1-0 (1)  "
      ]
     },
     "execution_count": 17,
     "metadata": {},
     "output_type": "execute_result"
    }
   ],
   "source": [
    "series.head(5)"
   ]
  },
  {
   "cell_type": "code",
   "execution_count": 20,
   "metadata": {},
   "outputs": [
    {
     "data": {
      "text/html": [
       "<div>\n",
       "<style scoped>\n",
       "    .dataframe tbody tr th:only-of-type {\n",
       "        vertical-align: middle;\n",
       "    }\n",
       "\n",
       "    .dataframe tbody tr th {\n",
       "        vertical-align: top;\n",
       "    }\n",
       "\n",
       "    .dataframe thead th {\n",
       "        text-align: right;\n",
       "    }\n",
       "</style>\n",
       "<table border=\"1\" class=\"dataframe\">\n",
       "  <thead>\n",
       "    <tr style=\"text-align: right;\">\n",
       "      <th></th>\n",
       "      <th>datadaysID</th>\n",
       "      <th>link</th>\n",
       "      <th>teams_text</th>\n",
       "      <th>years</th>\n",
       "      <th>winner</th>\n",
       "      <th>result</th>\n",
       "    </tr>\n",
       "  </thead>\n",
       "  <tbody>\n",
       "    <tr>\n",
       "      <th>732</th>\n",
       "      <td>737236</td>\n",
       "      <td>/ci/engine/series/1135145.html</td>\n",
       "      <td>Sobers/Tissera Trophy (Sri Lanka in West Indies)</td>\n",
       "      <td>2018</td>\n",
       "      <td>drawn</td>\n",
       "      <td>1-1 (3)</td>\n",
       "    </tr>\n",
       "    <tr>\n",
       "      <th>733</th>\n",
       "      <td>737254</td>\n",
       "      <td>/ci/engine/series/1146713.html</td>\n",
       "      <td>Bangladesh in West Indies Test Series</td>\n",
       "      <td>2018</td>\n",
       "      <td>West Indies</td>\n",
       "      <td>2-0 (2)</td>\n",
       "    </tr>\n",
       "    <tr>\n",
       "      <th>734</th>\n",
       "      <td>737263</td>\n",
       "      <td>/ci/engine/series/1142576.html</td>\n",
       "      <td>South Africa in Sri Lanka Test Series</td>\n",
       "      <td>2018</td>\n",
       "      <td>Sri Lanka</td>\n",
       "      <td>2-0 (2)</td>\n",
       "    </tr>\n",
       "    <tr>\n",
       "      <th>735</th>\n",
       "      <td>737313</td>\n",
       "      <td>/ci/engine/series/1119531.html</td>\n",
       "      <td>Pataudi Trophy (India in England)</td>\n",
       "      <td>2018</td>\n",
       "      <td>England</td>\n",
       "      <td>4-1 (5)</td>\n",
       "    </tr>\n",
       "    <tr>\n",
       "      <th>736</th>\n",
       "      <td>737346</td>\n",
       "      <td>/ci/engine/series/1157748.html</td>\n",
       "      <td>West Indies in India Test Series</td>\n",
       "      <td>2018/19</td>\n",
       "      <td>India</td>\n",
       "      <td>2-0 (2)</td>\n",
       "    </tr>\n",
       "    <tr>\n",
       "      <th>737</th>\n",
       "      <td>737351</td>\n",
       "      <td>/ci/engine/series/1157363.html</td>\n",
       "      <td>Pakistan v Australia Test Series (in United Ar...</td>\n",
       "      <td>2018/19</td>\n",
       "      <td>Pakistan</td>\n",
       "      <td>1-0 (2)</td>\n",
       "    </tr>\n",
       "  </tbody>\n",
       "</table>\n",
       "</div>"
      ],
      "text/plain": [
       "     datadaysID                            link  \\\n",
       "732      737236  /ci/engine/series/1135145.html   \n",
       "733      737254  /ci/engine/series/1146713.html   \n",
       "734      737263  /ci/engine/series/1142576.html   \n",
       "735      737313  /ci/engine/series/1119531.html   \n",
       "736      737346  /ci/engine/series/1157748.html   \n",
       "737      737351  /ci/engine/series/1157363.html   \n",
       "\n",
       "                                            teams_text    years       winner  \\\n",
       "732   Sobers/Tissera Trophy (Sri Lanka in West Indies)     2018        drawn   \n",
       "733              Bangladesh in West Indies Test Series     2018  West Indies   \n",
       "734              South Africa in Sri Lanka Test Series     2018    Sri Lanka   \n",
       "735                  Pataudi Trophy (India in England)     2018      England   \n",
       "736                   West Indies in India Test Series  2018/19        India   \n",
       "737  Pakistan v Australia Test Series (in United Ar...  2018/19     Pakistan   \n",
       "\n",
       "      result  \n",
       "732  1-1 (3)  \n",
       "733  2-0 (2)  \n",
       "734  2-0 (2)  \n",
       "735  4-1 (5)  \n",
       "736  2-0 (2)  \n",
       "737  1-0 (2)  "
      ]
     },
     "execution_count": 20,
     "metadata": {},
     "output_type": "execute_result"
    }
   ],
   "source": [
    "series.tail(6)"
   ]
  },
  {
   "cell_type": "markdown",
   "metadata": {},
   "source": [
    "## Feature Value distribution\n",
    "\n",
    "Let's now see how the data is distributed across the whole Dataframe and if any data is outside the patern we assumed for each feature."
   ]
  },
  {
   "cell_type": "markdown",
   "metadata": {},
   "source": [
    "### 1. datadaysID"
   ]
  },
  {
   "cell_type": "code",
   "execution_count": 24,
   "metadata": {},
   "outputs": [
    {
     "name": "stdout",
     "output_type": "stream",
     "text": [
      "Total number of datadaysID elements are 738, number of unique id elements are 729\n"
     ]
    }
   ],
   "source": [
    "print(\"Total number of datadaysID elements are {}, number of unique id elements are {}\".format(len(series), series['datadaysID'].nunique()))"
   ]
  },
  {
   "cell_type": "markdown",
   "metadata": {},
   "source": [
    "9 datadaysID values are repeated. Lets check some of the most frequent datadaysID values"
   ]
  },
  {
   "cell_type": "code",
   "execution_count": 15,
   "metadata": {},
   "outputs": [
    {
     "data": {
      "text/plain": [
       "731538    2\n",
       "733630    2\n",
       "732576    2\n",
       "Name: datadaysID, dtype: int64"
      ]
     },
     "execution_count": 15,
     "metadata": {},
     "output_type": "execute_result"
    }
   ],
   "source": [
    "# Top 3 most occuring datadaysID values\n",
    "series['datadaysID'].value_counts()[:3]"
   ]
  },
  {
   "cell_type": "markdown",
   "metadata": {},
   "source": [
    "We can see that some of the datadaysID are not unique. There aren't any specific patterns for similar datadaysID values too (as shown below). Since we don't even know what the field represents in cricketing terminology, we can ignore the feature while analysing. But let's save it for now in the Dataframe."
   ]
  },
  {
   "cell_type": "code",
   "execution_count": 16,
   "metadata": {},
   "outputs": [
    {
     "data": {
      "text/html": [
       "<div>\n",
       "<style scoped>\n",
       "    .dataframe tbody tr th:only-of-type {\n",
       "        vertical-align: middle;\n",
       "    }\n",
       "\n",
       "    .dataframe tbody tr th {\n",
       "        vertical-align: top;\n",
       "    }\n",
       "\n",
       "    .dataframe thead th {\n",
       "        text-align: right;\n",
       "    }\n",
       "</style>\n",
       "<table border=\"1\" class=\"dataframe\">\n",
       "  <thead>\n",
       "    <tr style=\"text-align: right;\">\n",
       "      <th></th>\n",
       "      <th>datadaysID</th>\n",
       "      <th>link</th>\n",
       "      <th>teams_text</th>\n",
       "      <th>years</th>\n",
       "      <th>winner</th>\n",
       "      <th>result</th>\n",
       "    </tr>\n",
       "  </thead>\n",
       "  <tbody>\n",
       "    <tr>\n",
       "      <th>475</th>\n",
       "      <td>731538</td>\n",
       "      <td>/ci/engine/series/60737.html</td>\n",
       "      <td>Pakistan in Zimbabwe Test Series</td>\n",
       "      <td>2002/03</td>\n",
       "      <td>Pakistan</td>\n",
       "      <td>2-0 (2)</td>\n",
       "    </tr>\n",
       "    <tr>\n",
       "      <th>476</th>\n",
       "      <td>731538</td>\n",
       "      <td>/ci/engine/series/60736.html</td>\n",
       "      <td>Sri Lanka in South Africa Test Series</td>\n",
       "      <td>2002/03</td>\n",
       "      <td>South Africa</td>\n",
       "      <td>2-0 (2)</td>\n",
       "    </tr>\n",
       "  </tbody>\n",
       "</table>\n",
       "</div>"
      ],
      "text/plain": [
       "     datadaysID                          link  \\\n",
       "475      731538  /ci/engine/series/60737.html   \n",
       "476      731538  /ci/engine/series/60736.html   \n",
       "\n",
       "                                teams_text    years        winner   result  \n",
       "475       Pakistan in Zimbabwe Test Series  2002/03      Pakistan  2-0 (2)  \n",
       "476  Sri Lanka in South Africa Test Series  2002/03  South Africa  2-0 (2)  "
      ]
     },
     "execution_count": 16,
     "metadata": {},
     "output_type": "execute_result"
    }
   ],
   "source": [
    "series[series['datadaysID'] == 731538]"
   ]
  },
  {
   "cell_type": "markdown",
   "metadata": {},
   "source": [
    "### 2. link"
   ]
  },
  {
   "cell_type": "code",
   "execution_count": 26,
   "metadata": {},
   "outputs": [
    {
     "name": "stdout",
     "output_type": "stream",
     "text": [
      "Total number of links are 738, number of unique links are 738\n"
     ]
    }
   ],
   "source": [
    "print(\"Total number of links are {}, number of unique links are {}\".format(len(series), series['link'].nunique()))"
   ]
  },
  {
   "cell_type": "markdown",
   "metadata": {},
   "source": [
    "Each link representing a html page containing scorecard summary of each match in that series. There are no duplicate links."
   ]
  },
  {
   "cell_type": "markdown",
   "metadata": {},
   "source": [
    "### 3. teams_text"
   ]
  },
  {
   "cell_type": "code",
   "execution_count": 32,
   "metadata": {},
   "outputs": [
    {
     "data": {
      "text/plain": [
       "The Ashes (England in Australia)              35\n",
       "The Ashes (Australia in England)              35\n",
       "England in New Zealand Test Series            18\n",
       "New Zealand in England Test Series            17\n",
       "The Wisden Trophy (West Indies in England)    16\n",
       "Name: teams_text, dtype: int64"
      ]
     },
     "execution_count": 32,
     "metadata": {},
     "output_type": "execute_result"
    }
   ],
   "source": [
    "series['teams_text'].value_counts()[:5]"
   ]
  },
  {
   "cell_type": "markdown",
   "metadata": {},
   "source": [
    "The most common series is \"The Ashes\" with most number of matches played. \n",
    "<p>Some of the Series have names. All the teams we checked are in (Team A in Team B) format. <br>\n",
    "    We can find the countries by slicing at <b style=\"color: green\"><u>in</u></b> and checking if the strings (countries or part of their country names) are present in test playing nations. </p>\n",
    "<p>We can now check if all the text fields have exactly 2 names of test playing nations once we break the strings</p>"
   ]
  },
  {
   "cell_type": "code",
   "execution_count": 34,
   "metadata": {},
   "outputs": [],
   "source": [
    "test_playing_nations = ['India', 'England', 'Australia', 'South Africa', 'West Indies', 'New Zealand', 'Pakistan', 'Sri Lanka', 'Zimbabwe', 'Bangladesh', 'Ireland', 'Afghanistan']"
   ]
  },
  {
   "cell_type": "code",
   "execution_count": null,
   "metadata": {},
   "outputs": [],
   "source": [
    "import re\n",
    "import numpy as np\n",
    "def split_teams(team):\n",
    "    team = re.sub(r'[^a-zA-Z]', ' ', team).split()\n",
    "    result = []\n",
    "    for idx, name in enumerate(team):\n",
    "        if name.lower() == 'in':\n",
    "            # team 1 (home)\n",
    "            if team[idx-1] in test_playing_nations:\n",
    "                result.append(team[idx-1])\n",
    "            elif (team[idx-2] + ' ' + team[idx-1]) in test_playing_nations:\n",
    "                result.append(team[idx-2] + ' ' + team[idx-1])\n",
    "            else:\n",
    "                result.append(np.nan())\n",
    "            # team 2 (away)\n",
    "            if team[idx+1] in test_playing_nations:\n",
    "                result.append(team[idx+1])\n",
    "            elif (team[idx+1] + ' ' + team[idx+2]) in test_playing_nations:\n",
    "                result.append(team[idx+1] + ' ' + team[idx+2])\n",
    "            else:\n",
    "                result.append(np.nan())\n",
    "            return result\n",
    "        \n",
    "#     return team\n",
    "#     return set(test_playing_nations) & set(team)\n",
    "    \n",
    "split_teams('The Ashes (England in Australia)')\n",
    "# # np.char.array(q) + ' ' + np.char.array(q)"
   ]
  },
  {
   "cell_type": "code",
   "execution_count": 115,
   "metadata": {},
   "outputs": [
    {
     "data": {
      "text/plain": [
       "'Pakistan v Australia Test Series (in United Arab Emirates)'"
      ]
     },
     "execution_count": 115,
     "metadata": {},
     "output_type": "execute_result"
    }
   ],
   "source": [
    "series['teams_text'].iloc[737]"
   ]
  },
  {
   "cell_type": "code",
   "execution_count": 129,
   "metadata": {},
   "outputs": [
    {
     "data": {
      "text/html": [
       "<div>\n",
       "<style scoped>\n",
       "    .dataframe tbody tr th:only-of-type {\n",
       "        vertical-align: middle;\n",
       "    }\n",
       "\n",
       "    .dataframe tbody tr th {\n",
       "        vertical-align: top;\n",
       "    }\n",
       "\n",
       "    .dataframe thead th {\n",
       "        text-align: right;\n",
       "    }\n",
       "</style>\n",
       "<table border=\"1\" class=\"dataframe\">\n",
       "  <thead>\n",
       "    <tr style=\"text-align: right;\">\n",
       "      <th></th>\n",
       "      <th>datadaysID</th>\n",
       "      <th>link</th>\n",
       "      <th>teams_text</th>\n",
       "      <th>years</th>\n",
       "      <th>winner</th>\n",
       "      <th>result</th>\n",
       "      <th>teams</th>\n",
       "      <th>Home</th>\n",
       "      <th>Away</th>\n",
       "    </tr>\n",
       "  </thead>\n",
       "  <tbody>\n",
       "    <tr>\n",
       "      <th>0</th>\n",
       "      <td>685654</td>\n",
       "      <td>/ci/engine/series/60260.html</td>\n",
       "      <td>England in Australia Test Series</td>\n",
       "      <td>1876/77</td>\n",
       "      <td>drawn</td>\n",
       "      <td>1-1 (2)</td>\n",
       "      <td>[England, Australia]</td>\n",
       "      <td>England</td>\n",
       "      <td>Australia</td>\n",
       "    </tr>\n",
       "    <tr>\n",
       "      <th>1</th>\n",
       "      <td>686294</td>\n",
       "      <td>/ci/engine/series/60261.html</td>\n",
       "      <td>England in Australia Test Match</td>\n",
       "      <td>1878/79</td>\n",
       "      <td>Australia</td>\n",
       "      <td>1-0 (1)</td>\n",
       "      <td>[England, Australia]</td>\n",
       "      <td>England</td>\n",
       "      <td>Australia</td>\n",
       "    </tr>\n",
       "    <tr>\n",
       "      <th>2</th>\n",
       "      <td>686907</td>\n",
       "      <td>/ci/engine/series/60262.html</td>\n",
       "      <td>Australia in England Test Match</td>\n",
       "      <td>1880</td>\n",
       "      <td>England</td>\n",
       "      <td>1-0 (1)</td>\n",
       "      <td>[Australia, England]</td>\n",
       "      <td>Australia</td>\n",
       "      <td>England</td>\n",
       "    </tr>\n",
       "    <tr>\n",
       "      <th>3</th>\n",
       "      <td>687459</td>\n",
       "      <td>/ci/engine/series/60263.html</td>\n",
       "      <td>England in Australia Test Series</td>\n",
       "      <td>1881/82</td>\n",
       "      <td>Australia</td>\n",
       "      <td>2-0 (4)</td>\n",
       "      <td>[England, Australia]</td>\n",
       "      <td>England</td>\n",
       "      <td>Australia</td>\n",
       "    </tr>\n",
       "    <tr>\n",
       "      <th>4</th>\n",
       "      <td>687627</td>\n",
       "      <td>/ci/engine/series/60264.html</td>\n",
       "      <td>Australia in England Test Match</td>\n",
       "      <td>1882</td>\n",
       "      <td>Australia</td>\n",
       "      <td>1-0 (1)</td>\n",
       "      <td>[Australia, England]</td>\n",
       "      <td>Australia</td>\n",
       "      <td>England</td>\n",
       "    </tr>\n",
       "  </tbody>\n",
       "</table>\n",
       "</div>"
      ],
      "text/plain": [
       "   datadaysID                          link                        teams_text  \\\n",
       "0      685654  /ci/engine/series/60260.html  England in Australia Test Series   \n",
       "1      686294  /ci/engine/series/60261.html   England in Australia Test Match   \n",
       "2      686907  /ci/engine/series/60262.html   Australia in England Test Match   \n",
       "3      687459  /ci/engine/series/60263.html  England in Australia Test Series   \n",
       "4      687627  /ci/engine/series/60264.html   Australia in England Test Match   \n",
       "\n",
       "     years     winner   result                 teams       Home       Away  \n",
       "0  1876/77      drawn  1-1 (2)  [England, Australia]    England  Australia  \n",
       "1  1878/79  Australia  1-0 (1)  [England, Australia]    England  Australia  \n",
       "2     1880    England  1-0 (1)  [Australia, England]  Australia    England  \n",
       "3  1881/82  Australia  2-0 (4)  [England, Australia]    England  Australia  \n",
       "4     1882  Australia  1-0 (1)  [Australia, England]  Australia    England  "
      ]
     },
     "execution_count": 129,
     "metadata": {},
     "output_type": "execute_result"
    }
   ],
   "source": [
    "series.head()"
   ]
  },
  {
   "cell_type": "code",
   "execution_count": 130,
   "metadata": {},
   "outputs": [
    {
     "data": {
      "text/plain": [
       "0"
      ]
     },
     "execution_count": 130,
     "metadata": {},
     "output_type": "execute_result"
    }
   ],
   "source": [
    "# series.loc[series['Home'] == '']\n",
    "series['Home'].isnull().sum()"
   ]
  },
  {
   "cell_type": "code",
   "execution_count": null,
   "metadata": {},
   "outputs": [],
   "source": []
  }
 ],
 "metadata": {
  "kernelspec": {
   "display_name": "Python 3",
   "language": "python",
   "name": "python3"
  },
  "language_info": {
   "codemirror_mode": {
    "name": "ipython",
    "version": 3
   },
   "file_extension": ".py",
   "mimetype": "text/x-python",
   "name": "python",
   "nbconvert_exporter": "python",
   "pygments_lexer": "ipython3",
   "version": "3.6.4"
  }
 },
 "nbformat": 4,
 "nbformat_minor": 2
}
