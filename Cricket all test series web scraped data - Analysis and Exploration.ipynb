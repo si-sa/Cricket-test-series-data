{
 "cells": [
  {
   "cell_type": "markdown",
   "metadata": {},
   "source": [
    "## Data Inspiration\n",
    "<p>I was watching cricket match yesterday. India vs WestIndies. Both Rohit and Virat were well settled on crease with 200 run partnership and counting. virat was close to 150 and i saw a dialog box on TV stating kohli just needs another 154 runs to reach 10k Runs. To join the groups of elite Batsmen including Sachin, Pointing and Dravid. I was little surprised to see him reach close to the milestone so soon. </p>\n",
    "<p>Then it stuck me, the amount of data in cricket. There's huge data in cricket. Data from 4's and 6's by a batsman in a match to number of balls faced in his test career.</p>\n",
    "<p>It din't take me long to search for perfect website to find those stats. In India, cricket is a religion after all. I landed on cricinfo, searched for stats and found <a href='http://stats.espncricinfo.com/ci/content/records/335431.html'>this</a> webpage containing data of every single test match ever recorded or reported.</p>\n",
    "<p>So, i dug in, scraped the data and analysed every stat i could imagine</p>"
   ]
  },
  {
   "cell_type": "code",
   "execution_count": 1,
   "metadata": {},
   "outputs": [],
   "source": [
    "import requests"
   ]
  },
  {
   "cell_type": "code",
   "execution_count": 6,
   "metadata": {},
   "outputs": [
    {
     "data": {
      "text/plain": [
       "'\\n<!DOCTYPE html PUBLIC \"-//W3C//DTD XHTML 1.0 Transitional//EN\" \"http://www.w3.org/TR/xhtml1/DTD/xhtml1-transitional.dtd\">\\n<!-- hostname: web003, edition-view: espncricinfo-en-in, country: unknown, cluster: www, created: 2018-10-22 16:59:32 -->\\n<html xmlns=\"http://www.w3.org/1999/xhtml\" xmlns:fb=\"http://www.facebook.com/2008/fbml\" xmlns:og=\"http://opengraphprotocol.org/schema/\" xmlns:fb=\"http://developers.facebook.com/schema/\" >\\n<head>\\n <script type=\"text/javascript\">var _sf_startpt=(new Date())'"
      ]
     },
     "execution_count": 6,
     "metadata": {},
     "output_type": "execute_result"
    }
   ],
   "source": [
    "r = requests.get('http://stats.espncricinfo.com/ci/content/records/335431.html')\n",
    "r.text[0:500]"
   ]
  },
  {
   "cell_type": "code",
   "execution_count": 7,
   "metadata": {},
   "outputs": [],
   "source": [
    "from bs4 import BeautifulSoup  \n",
    "soup = BeautifulSoup(r.text, 'html.parser')"
   ]
  },
  {
   "cell_type": "code",
   "execution_count": 8,
   "metadata": {},
   "outputs": [
    {
     "name": "stdout",
     "output_type": "stream",
     "text": [
      "The resulting object is of type <class 'bs4.element.ResultSet'>\n",
      "Total number of results, i.e total no of tests played till date are: 738\n"
     ]
    }
   ],
   "source": [
    "stats = soup.find_all('tr', attrs={'class':'data1'})\n",
    "print(\"The resulting object is of type {}\".format(type(stats)))\n",
    "print(\"Total number of results, i.e total no of tests played till date are: {}\".format(len(stats)))"
   ]
  },
  {
   "cell_type": "markdown",
   "metadata": {},
   "source": [
    "The Whole Data is present in form of a list in the <i>bs4.element.ResultSet</i>. \n",
    "<p>Each test series is in form of an element in list.</p>\n",
    "<p>Below is the structure of data in each element</p>"
   ]
  },
  {
   "cell_type": "code",
   "execution_count": 9,
   "metadata": {},
   "outputs": [
    {
     "data": {
      "text/plain": [
       "<tr class=\"data1\" data-days=\"685654\">\n",
       "<td class=\"left\"><a class=\"data-link\" href=\"/ci/engine/series/60260.html\">England in Australia Test Series</a></td>\n",
       "<td class=\"left\" nowrap=\"nowrap\">1876/77</td>\n",
       "<td nowrap=\"nowrap\"></td>\n",
       "<td class=\"left\" nowrap=\"nowrap\"><a class=\"data-link\" href=\"/ci/content/team/1356.html\">drawn</a></td>\n",
       "<td nowrap=\"nowrap\">1-1 (2)</td>\n",
       "</tr>"
      ]
     },
     "execution_count": 9,
     "metadata": {},
     "output_type": "execute_result"
    }
   ],
   "source": [
    "stats[0]"
   ]
  },
  {
   "cell_type": "markdown",
   "metadata": {},
   "source": [
    "### Data Structure of each table row of the data table\n",
    "- The Number 685654 in data-days attribute. Such numbers notably unique are present in all elements. must mean something.\n",
    "- The pathname of link to direct to page containing the test series results\n",
    "- The Test Series teams playing. It gives information about the home team and the away team.\n",
    "- The year the test series is played in\n",
    "- A link inside 4th td tag leading to the winning team's page. It's throwing 404 (Page not Found) error for drawn series.\n",
    "- The numerical Result of the series\n",
    "- Total number of matches played in the series. ( Given in the Bracket )"
   ]
  },
  {
   "cell_type": "markdown",
   "metadata": {},
   "source": [
    "So, the features (and it's values as per the first row) can be :\n",
    "<p>\n",
    "    <b>data-days</b> 685654<br>\n",
    "    <b>Match link</b> /ci/engine/series/60260.html<br>\n",
    "    <b>teams playing</b> England in Australia Test Series<br>\n",
    "    <b>Year</b> 1876/77<br>\n",
    "    <b>Team Won</b> Drawn<br>\n",
    "    <b>Result</b> 1-1 (first number corresponds to winner)<br>\n",
    "    <b>Matches Played</b> 2<br>\n",
    "</p>\n",
    "\n",
    "<p>The Dataframe would look something like this: </p>\n",
    "<table>\n",
    "    <thead>\n",
    "    <tr>\n",
    "        <td><b>data-days</b></td>\n",
    "        <td><b>Series link</b></td>\n",
    "        <td><b>Teams playing</b></td>\n",
    "        <td><b>Year</b></td>\n",
    "        <td><b>Team Won</b></td>\n",
    "        <td><b>Result</b></td>\n",
    "        <td><b>Matches Played</b></td>\n",
    "    </tr>\n",
    "    </thead>\n",
    "    <tr>\n",
    "        <td>685654<br></td>\n",
    "        <td>/ci/engine/series/60260.html<br></td>\n",
    "        <td>England in Australia Test Series<br></td>\n",
    "        <td>1876/77<br></td>\n",
    "        <td>Drawn<br></td>\n",
    "        <td>1-1<br></td>\n",
    "        <td>2<br></td>\n",
    "    </tr>\n",
    "</table>"
   ]
  },
  {
   "cell_type": "markdown",
   "metadata": {},
   "source": [
    "- We can Further divide the Team playing into Home team and away team. Some of the Series have Series name embedded in this section. So, we can add another column <b>Series Name</b> to it. \n",
    "- We can divide the Year to series <b>starting Year</b> and <b>ending Year</b>\n",
    "- The Result can be divided into <b>Home wins</b> and <b>away wins</b>"
   ]
  },
  {
   "cell_type": "markdown",
   "metadata": {},
   "source": [
    "<p>With updated features, the dataframe would look like this: </p>\n",
    "<table>\n",
    "    <thead>\n",
    "    <tr>\n",
    "        <td><b>datadaysId</b></td>\n",
    "        <td><b>Link</b></td>\n",
    "        <td><b>Name</b></td>\n",
    "        <td><b>Home</b></td>\n",
    "        <td><b>Away</b></td>\n",
    "        <td><b>startYear</b></td>\n",
    "        <td><b>endYear</b></td>\n",
    "        <td><b>TeamWon</b></td>\n",
    "        <td><b>HomeWins</b></td>\n",
    "        <td><b>AwayWins</b></td>\n",
    "        <td><b>Matches</b></td>\n",
    "    </tr>\n",
    "    </thead>\n",
    "    <tr>\n",
    "        <td>685654</td>\n",
    "        <td>/ci/engine/series/60260.html</td>\n",
    "        <td></td>\n",
    "        <td>Australia</td>\n",
    "        <td>England</td>\n",
    "        <td>1876</td>\n",
    "        <td>1877</td>\n",
    "        <td>Drawn</td>\n",
    "        <td>1</td>\n",
    "        <td>1</td>\n",
    "        <td>2</td>\n",
    "    </tr>\n",
    "</table>"
   ]
  },
  {
   "cell_type": "markdown",
   "metadata": {},
   "source": [
    "Now that we have format of the features, let's separate the values from the bs4 Resultset"
   ]
  },
  {
   "cell_type": "code",
   "execution_count": 10,
   "metadata": {},
   "outputs": [
    {
     "data": {
      "text/plain": [
       "<tr class=\"data1\" data-days=\"737346\">\n",
       "<td class=\"left\"><a class=\"data-link\" href=\"/ci/engine/series/1157748.html\">West Indies in India Test Series</a></td>\n",
       "<td class=\"left\" nowrap=\"nowrap\">2018/19</td>\n",
       "<td nowrap=\"nowrap\"></td>\n",
       "<td class=\"left\" nowrap=\"nowrap\"><a class=\"data-link\" href=\"/ci/content/team/6.html\">India</a></td>\n",
       "<td nowrap=\"nowrap\">2-0 (2)</td>\n",
       "</tr>"
      ]
     },
     "execution_count": 10,
     "metadata": {},
     "output_type": "execute_result"
    }
   ],
   "source": [
    "final_result = stats[-2]\n",
    "final_result"
   ]
  },
  {
   "cell_type": "markdown",
   "metadata": {},
   "source": [
    "This series is the inspiration for my data. So, this data is updated till date."
   ]
  },
  {
   "cell_type": "code",
   "execution_count": null,
   "metadata": {},
   "outputs": [],
   "source": [
    "test_playing_nations = ['India', 'England', 'Australia', 'South Africa', 'West Indies', 'New Zealand', 'Pakistan', 'Sri Lanka', 'Zimbabwe', 'Bangladesh', 'Ireland', 'Afghanistan']\n",
    "test_playing_nations"
   ]
  },
  {
   "cell_type": "code",
   "execution_count": 18,
   "metadata": {},
   "outputs": [],
   "source": [
    "records = []\n",
    "for series in stats:\n",
    "    datadaysId = int(series['data-days'])\n",
    "    Link = series.find('a').get('href')\n",
    "    teams_text = series.find_all('td')[0].text\n",
    "    years = series.find_all('td')[1].text\n",
    "    winner = series.find_all('td')[3].text\n",
    "    result = series.find_all('td')[4].text\n",
    "    records.append((datadaysId, Link, teams_text, years, winner, result))"
   ]
  },
  {
   "cell_type": "code",
   "execution_count": 20,
   "metadata": {},
   "outputs": [
    {
     "data": {
      "text/plain": [
       "[(737313,\n",
       "  '/ci/engine/series/1119531.html',\n",
       "  'Pataudi Trophy (India in England)',\n",
       "  '2018',\n",
       "  'England',\n",
       "  '4-1 (5)'),\n",
       " (737346,\n",
       "  '/ci/engine/series/1157748.html',\n",
       "  'West Indies in India Test Series',\n",
       "  '2018/19',\n",
       "  'India',\n",
       "  '2-0 (2)'),\n",
       " (737351,\n",
       "  '/ci/engine/series/1157363.html',\n",
       "  'Pakistan v Australia Test Series (in United Arab Emirates)',\n",
       "  '2018/19',\n",
       "  'Pakistan',\n",
       "  '1-0 (2)')]"
      ]
     },
     "execution_count": 20,
     "metadata": {},
     "output_type": "execute_result"
    }
   ],
   "source": [
    "records[-3:]"
   ]
  },
  {
   "cell_type": "code",
   "execution_count": 22,
   "metadata": {},
   "outputs": [],
   "source": [
    "import pandas as pd\n",
    "series = pd.DataFrame(records, columns=['datadaysID', 'link', 'teams_text', 'years', 'winner', 'result'])"
   ]
  },
  {
   "cell_type": "code",
   "execution_count": 24,
   "metadata": {},
   "outputs": [
    {
     "data": {
      "text/html": [
       "<div>\n",
       "<style scoped>\n",
       "    .dataframe tbody tr th:only-of-type {\n",
       "        vertical-align: middle;\n",
       "    }\n",
       "\n",
       "    .dataframe tbody tr th {\n",
       "        vertical-align: top;\n",
       "    }\n",
       "\n",
       "    .dataframe thead th {\n",
       "        text-align: right;\n",
       "    }\n",
       "</style>\n",
       "<table border=\"1\" class=\"dataframe\">\n",
       "  <thead>\n",
       "    <tr style=\"text-align: right;\">\n",
       "      <th></th>\n",
       "      <th>datadaysID</th>\n",
       "      <th>link</th>\n",
       "      <th>teams_text</th>\n",
       "      <th>years</th>\n",
       "      <th>winner</th>\n",
       "      <th>result</th>\n",
       "    </tr>\n",
       "  </thead>\n",
       "  <tbody>\n",
       "    <tr>\n",
       "      <th>0</th>\n",
       "      <td>685654</td>\n",
       "      <td>/ci/engine/series/60260.html</td>\n",
       "      <td>England in Australia Test Series</td>\n",
       "      <td>1876/77</td>\n",
       "      <td>drawn</td>\n",
       "      <td>1-1 (2)</td>\n",
       "    </tr>\n",
       "    <tr>\n",
       "      <th>1</th>\n",
       "      <td>686294</td>\n",
       "      <td>/ci/engine/series/60261.html</td>\n",
       "      <td>England in Australia Test Match</td>\n",
       "      <td>1878/79</td>\n",
       "      <td>Australia</td>\n",
       "      <td>1-0 (1)</td>\n",
       "    </tr>\n",
       "    <tr>\n",
       "      <th>2</th>\n",
       "      <td>686907</td>\n",
       "      <td>/ci/engine/series/60262.html</td>\n",
       "      <td>Australia in England Test Match</td>\n",
       "      <td>1880</td>\n",
       "      <td>England</td>\n",
       "      <td>1-0 (1)</td>\n",
       "    </tr>\n",
       "    <tr>\n",
       "      <th>3</th>\n",
       "      <td>687459</td>\n",
       "      <td>/ci/engine/series/60263.html</td>\n",
       "      <td>England in Australia Test Series</td>\n",
       "      <td>1881/82</td>\n",
       "      <td>Australia</td>\n",
       "      <td>2-0 (4)</td>\n",
       "    </tr>\n",
       "    <tr>\n",
       "      <th>4</th>\n",
       "      <td>687627</td>\n",
       "      <td>/ci/engine/series/60264.html</td>\n",
       "      <td>Australia in England Test Match</td>\n",
       "      <td>1882</td>\n",
       "      <td>Australia</td>\n",
       "      <td>1-0 (1)</td>\n",
       "    </tr>\n",
       "    <tr>\n",
       "      <th>5</th>\n",
       "      <td>687781</td>\n",
       "      <td>/ci/engine/series/60265.html</td>\n",
       "      <td>The Ashes (England in Australia)</td>\n",
       "      <td>1882/83</td>\n",
       "      <td>England</td>\n",
       "      <td>2-1 (3)</td>\n",
       "    </tr>\n",
       "    <tr>\n",
       "      <th>6</th>\n",
       "      <td>687803</td>\n",
       "      <td>/ci/engine/series/60266.html</td>\n",
       "      <td>England in Australia Test Match</td>\n",
       "      <td>1882/83</td>\n",
       "      <td>Australia</td>\n",
       "      <td>1-0 (1)</td>\n",
       "    </tr>\n",
       "    <tr>\n",
       "      <th>7</th>\n",
       "      <td>688342</td>\n",
       "      <td>/ci/engine/series/60267.html</td>\n",
       "      <td>The Ashes (Australia in England)</td>\n",
       "      <td>1884</td>\n",
       "      <td>England</td>\n",
       "      <td>1-0 (3)</td>\n",
       "    </tr>\n",
       "    <tr>\n",
       "      <th>8</th>\n",
       "      <td>688566</td>\n",
       "      <td>/ci/engine/series/60268.html</td>\n",
       "      <td>The Ashes (England in Australia)</td>\n",
       "      <td>1884/85</td>\n",
       "      <td>England</td>\n",
       "      <td>3-2 (5)</td>\n",
       "    </tr>\n",
       "    <tr>\n",
       "      <th>9</th>\n",
       "      <td>689073</td>\n",
       "      <td>/ci/engine/series/60269.html</td>\n",
       "      <td>The Ashes (Australia in England)</td>\n",
       "      <td>1886</td>\n",
       "      <td>England</td>\n",
       "      <td>3-0 (3)</td>\n",
       "    </tr>\n",
       "  </tbody>\n",
       "</table>\n",
       "</div>"
      ],
      "text/plain": [
       "   datadaysID                          link                        teams_text  \\\n",
       "0      685654  /ci/engine/series/60260.html  England in Australia Test Series   \n",
       "1      686294  /ci/engine/series/60261.html   England in Australia Test Match   \n",
       "2      686907  /ci/engine/series/60262.html   Australia in England Test Match   \n",
       "3      687459  /ci/engine/series/60263.html  England in Australia Test Series   \n",
       "4      687627  /ci/engine/series/60264.html   Australia in England Test Match   \n",
       "5      687781  /ci/engine/series/60265.html  The Ashes (England in Australia)   \n",
       "6      687803  /ci/engine/series/60266.html   England in Australia Test Match   \n",
       "7      688342  /ci/engine/series/60267.html  The Ashes (Australia in England)   \n",
       "8      688566  /ci/engine/series/60268.html  The Ashes (England in Australia)   \n",
       "9      689073  /ci/engine/series/60269.html  The Ashes (Australia in England)   \n",
       "\n",
       "     years     winner   result  \n",
       "0  1876/77      drawn  1-1 (2)  \n",
       "1  1878/79  Australia  1-0 (1)  \n",
       "2     1880    England  1-0 (1)  \n",
       "3  1881/82  Australia  2-0 (4)  \n",
       "4     1882  Australia  1-0 (1)  \n",
       "5  1882/83    England  2-1 (3)  \n",
       "6  1882/83  Australia  1-0 (1)  \n",
       "7     1884    England  1-0 (3)  \n",
       "8  1884/85    England  3-2 (5)  \n",
       "9     1886    England  3-0 (3)  "
      ]
     },
     "execution_count": 24,
     "metadata": {},
     "output_type": "execute_result"
    }
   ],
   "source": [
    "series.head(10)"
   ]
  },
  {
   "cell_type": "code",
   "execution_count": 25,
   "metadata": {},
   "outputs": [
    {
     "data": {
      "text/html": [
       "<div>\n",
       "<style scoped>\n",
       "    .dataframe tbody tr th:only-of-type {\n",
       "        vertical-align: middle;\n",
       "    }\n",
       "\n",
       "    .dataframe tbody tr th {\n",
       "        vertical-align: top;\n",
       "    }\n",
       "\n",
       "    .dataframe thead th {\n",
       "        text-align: right;\n",
       "    }\n",
       "</style>\n",
       "<table border=\"1\" class=\"dataframe\">\n",
       "  <thead>\n",
       "    <tr style=\"text-align: right;\">\n",
       "      <th></th>\n",
       "      <th>datadaysID</th>\n",
       "      <th>link</th>\n",
       "      <th>teams_text</th>\n",
       "      <th>years</th>\n",
       "      <th>winner</th>\n",
       "      <th>result</th>\n",
       "    </tr>\n",
       "  </thead>\n",
       "  <tbody>\n",
       "    <tr>\n",
       "      <th>728</th>\n",
       "      <td>737152</td>\n",
       "      <td>/ci/engine/series/1115774.html</td>\n",
       "      <td>England in New Zealand Test Series</td>\n",
       "      <td>2017/18</td>\n",
       "      <td>New Zealand</td>\n",
       "      <td>1-0 (2)</td>\n",
       "    </tr>\n",
       "    <tr>\n",
       "      <th>729</th>\n",
       "      <td>737194</td>\n",
       "      <td>/ci/engine/series/1127280.html</td>\n",
       "      <td>Pakistan in Ireland Test Match</td>\n",
       "      <td>2018</td>\n",
       "      <td>Pakistan</td>\n",
       "      <td>1-0 (1)</td>\n",
       "    </tr>\n",
       "    <tr>\n",
       "      <th>730</th>\n",
       "      <td>737213</td>\n",
       "      <td>/ci/engine/series/1119524.html</td>\n",
       "      <td>Pakistan in England Test Series</td>\n",
       "      <td>2018</td>\n",
       "      <td>drawn</td>\n",
       "      <td>1-1 (2)</td>\n",
       "    </tr>\n",
       "    <tr>\n",
       "      <th>731</th>\n",
       "      <td>737225</td>\n",
       "      <td>/ci/engine/series/1133250.html</td>\n",
       "      <td>Afghanistan in India Test Match</td>\n",
       "      <td>2018</td>\n",
       "      <td>India</td>\n",
       "      <td>1-0 (1)</td>\n",
       "    </tr>\n",
       "    <tr>\n",
       "      <th>732</th>\n",
       "      <td>737236</td>\n",
       "      <td>/ci/engine/series/1135145.html</td>\n",
       "      <td>Sobers/Tissera Trophy (Sri Lanka in West Indies)</td>\n",
       "      <td>2018</td>\n",
       "      <td>drawn</td>\n",
       "      <td>1-1 (3)</td>\n",
       "    </tr>\n",
       "    <tr>\n",
       "      <th>733</th>\n",
       "      <td>737254</td>\n",
       "      <td>/ci/engine/series/1146713.html</td>\n",
       "      <td>Bangladesh in West Indies Test Series</td>\n",
       "      <td>2018</td>\n",
       "      <td>West Indies</td>\n",
       "      <td>2-0 (2)</td>\n",
       "    </tr>\n",
       "    <tr>\n",
       "      <th>734</th>\n",
       "      <td>737263</td>\n",
       "      <td>/ci/engine/series/1142576.html</td>\n",
       "      <td>South Africa in Sri Lanka Test Series</td>\n",
       "      <td>2018</td>\n",
       "      <td>Sri Lanka</td>\n",
       "      <td>2-0 (2)</td>\n",
       "    </tr>\n",
       "    <tr>\n",
       "      <th>735</th>\n",
       "      <td>737313</td>\n",
       "      <td>/ci/engine/series/1119531.html</td>\n",
       "      <td>Pataudi Trophy (India in England)</td>\n",
       "      <td>2018</td>\n",
       "      <td>England</td>\n",
       "      <td>4-1 (5)</td>\n",
       "    </tr>\n",
       "    <tr>\n",
       "      <th>736</th>\n",
       "      <td>737346</td>\n",
       "      <td>/ci/engine/series/1157748.html</td>\n",
       "      <td>West Indies in India Test Series</td>\n",
       "      <td>2018/19</td>\n",
       "      <td>India</td>\n",
       "      <td>2-0 (2)</td>\n",
       "    </tr>\n",
       "    <tr>\n",
       "      <th>737</th>\n",
       "      <td>737351</td>\n",
       "      <td>/ci/engine/series/1157363.html</td>\n",
       "      <td>Pakistan v Australia Test Series (in United Ar...</td>\n",
       "      <td>2018/19</td>\n",
       "      <td>Pakistan</td>\n",
       "      <td>1-0 (2)</td>\n",
       "    </tr>\n",
       "  </tbody>\n",
       "</table>\n",
       "</div>"
      ],
      "text/plain": [
       "     datadaysID                            link  \\\n",
       "728      737152  /ci/engine/series/1115774.html   \n",
       "729      737194  /ci/engine/series/1127280.html   \n",
       "730      737213  /ci/engine/series/1119524.html   \n",
       "731      737225  /ci/engine/series/1133250.html   \n",
       "732      737236  /ci/engine/series/1135145.html   \n",
       "733      737254  /ci/engine/series/1146713.html   \n",
       "734      737263  /ci/engine/series/1142576.html   \n",
       "735      737313  /ci/engine/series/1119531.html   \n",
       "736      737346  /ci/engine/series/1157748.html   \n",
       "737      737351  /ci/engine/series/1157363.html   \n",
       "\n",
       "                                            teams_text    years       winner  \\\n",
       "728                 England in New Zealand Test Series  2017/18  New Zealand   \n",
       "729                     Pakistan in Ireland Test Match     2018     Pakistan   \n",
       "730                    Pakistan in England Test Series     2018        drawn   \n",
       "731                    Afghanistan in India Test Match     2018        India   \n",
       "732   Sobers/Tissera Trophy (Sri Lanka in West Indies)     2018        drawn   \n",
       "733              Bangladesh in West Indies Test Series     2018  West Indies   \n",
       "734              South Africa in Sri Lanka Test Series     2018    Sri Lanka   \n",
       "735                  Pataudi Trophy (India in England)     2018      England   \n",
       "736                   West Indies in India Test Series  2018/19        India   \n",
       "737  Pakistan v Australia Test Series (in United Ar...  2018/19     Pakistan   \n",
       "\n",
       "      result  \n",
       "728  1-0 (2)  \n",
       "729  1-0 (1)  \n",
       "730  1-1 (2)  \n",
       "731  1-0 (1)  \n",
       "732  1-1 (3)  \n",
       "733  2-0 (2)  \n",
       "734  2-0 (2)  \n",
       "735  4-1 (5)  \n",
       "736  2-0 (2)  \n",
       "737  1-0 (2)  "
      ]
     },
     "execution_count": 25,
     "metadata": {},
     "output_type": "execute_result"
    }
   ],
   "source": [
    "series.tail(10)"
   ]
  },
  {
   "cell_type": "code",
   "execution_count": 26,
   "metadata": {},
   "outputs": [
    {
     "data": {
      "text/plain": [
       "array(['drawn', 'Australia', 'England', 'South Africa', 'West Indies',\n",
       "       'India', 'Pakistan', 'New Zealand', 'Sri Lanka', 'Zimbabwe',\n",
       "       'Bangladesh'], dtype=object)"
      ]
     },
     "execution_count": 26,
     "metadata": {},
     "output_type": "execute_result"
    }
   ],
   "source": [
    "series['winner'].unique()"
   ]
  },
  {
   "cell_type": "code",
   "execution_count": 27,
   "metadata": {},
   "outputs": [
    {
     "data": {
      "text/plain": [
       "(738, 729)"
      ]
     },
     "execution_count": 27,
     "metadata": {},
     "output_type": "execute_result"
    }
   ],
   "source": [
    "len(series), series['datadaysID'].nunique()"
   ]
  },
  {
   "cell_type": "code",
   "execution_count": 29,
   "metadata": {},
   "outputs": [
    {
     "data": {
      "text/plain": [
       "731538    2\n",
       "733630    2\n",
       "732576    2\n",
       "733764    2\n",
       "698577    2\n",
       "734895    2\n",
       "731873    2\n",
       "737152    2\n",
       "736128    2\n",
       "723789    1\n",
       "Name: datadaysID, dtype: int64"
      ]
     },
     "execution_count": 29,
     "metadata": {},
     "output_type": "execute_result"
    }
   ],
   "source": [
    "series['datadaysID'].value_counts()[:10]"
   ]
  },
  {
   "cell_type": "code",
   "execution_count": 30,
   "metadata": {},
   "outputs": [
    {
     "data": {
      "text/html": [
       "<div>\n",
       "<style scoped>\n",
       "    .dataframe tbody tr th:only-of-type {\n",
       "        vertical-align: middle;\n",
       "    }\n",
       "\n",
       "    .dataframe tbody tr th {\n",
       "        vertical-align: top;\n",
       "    }\n",
       "\n",
       "    .dataframe thead th {\n",
       "        text-align: right;\n",
       "    }\n",
       "</style>\n",
       "<table border=\"1\" class=\"dataframe\">\n",
       "  <thead>\n",
       "    <tr style=\"text-align: right;\">\n",
       "      <th></th>\n",
       "      <th>datadaysID</th>\n",
       "      <th>link</th>\n",
       "      <th>teams_text</th>\n",
       "      <th>years</th>\n",
       "      <th>winner</th>\n",
       "      <th>result</th>\n",
       "    </tr>\n",
       "  </thead>\n",
       "  <tbody>\n",
       "    <tr>\n",
       "      <th>475</th>\n",
       "      <td>731538</td>\n",
       "      <td>/ci/engine/series/60737.html</td>\n",
       "      <td>Pakistan in Zimbabwe Test Series</td>\n",
       "      <td>2002/03</td>\n",
       "      <td>Pakistan</td>\n",
       "      <td>2-0 (2)</td>\n",
       "    </tr>\n",
       "    <tr>\n",
       "      <th>476</th>\n",
       "      <td>731538</td>\n",
       "      <td>/ci/engine/series/60736.html</td>\n",
       "      <td>Sri Lanka in South Africa Test Series</td>\n",
       "      <td>2002/03</td>\n",
       "      <td>South Africa</td>\n",
       "      <td>2-0 (2)</td>\n",
       "    </tr>\n",
       "  </tbody>\n",
       "</table>\n",
       "</div>"
      ],
      "text/plain": [
       "     datadaysID                          link  \\\n",
       "475      731538  /ci/engine/series/60737.html   \n",
       "476      731538  /ci/engine/series/60736.html   \n",
       "\n",
       "                                teams_text    years        winner   result  \n",
       "475       Pakistan in Zimbabwe Test Series  2002/03      Pakistan  2-0 (2)  \n",
       "476  Sri Lanka in South Africa Test Series  2002/03  South Africa  2-0 (2)  "
      ]
     },
     "execution_count": 30,
     "metadata": {},
     "output_type": "execute_result"
    }
   ],
   "source": [
    "series[series['datadaysID'] == 731538]"
   ]
  }
 ],
 "metadata": {
  "kernelspec": {
   "display_name": "Python 3",
   "language": "python",
   "name": "python3"
  },
  "language_info": {
   "codemirror_mode": {
    "name": "ipython",
    "version": 3
   },
   "file_extension": ".py",
   "mimetype": "text/x-python",
   "name": "python",
   "nbconvert_exporter": "python",
   "pygments_lexer": "ipython3",
   "version": "3.6.4"
  }
 },
 "nbformat": 4,
 "nbformat_minor": 2
}
