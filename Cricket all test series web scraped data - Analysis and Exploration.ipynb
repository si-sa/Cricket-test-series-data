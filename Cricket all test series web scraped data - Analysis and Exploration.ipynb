{
 "cells": [
  {
   "cell_type": "markdown",
   "metadata": {},
   "source": [
    "## Data Inspiration\n",
    "<p>I was watching cricket match yesterday (21st Oct '18). India vs WestIndies. Both Rohit and Virat were well settled on crease with 200 run partnership and counting. virat was close to 150 and i saw a dialog box on TV stating kohli just needs another 154 runs to reach 10k Runs. To join the groups of elite Batsmen including Sachin, Pointing and Dravid. I was little surprised to see him reach close to the milestone so soon. </p>\n",
    "<p>Then it stuck me, the amount of data in cricket. There's huge data in cricket. Data from 4's and 6's by a batsman in a match to number of balls faced in his test career.</p>\n",
    "<p>It din't take me long to search for perfect website to find those stats. In India, cricket is a religion after all. I landed on cricinfo, searched for stats and found <a href='http://stats.espncricinfo.com/ci/content/records/335431.html'>this</a> webpage containing data of every single test match ever recorded or reported.</p>\n",
    "<p>So, i dug in, scraped the data to analyse every stat i could imagine</p>"
   ]
  },
  {
   "cell_type": "code",
   "execution_count": 1,
   "metadata": {},
   "outputs": [],
   "source": [
    "import requests"
   ]
  },
  {
   "cell_type": "code",
   "execution_count": 2,
   "metadata": {},
   "outputs": [
    {
     "data": {
      "text/plain": [
       "'\\n<!DOCTYPE html PUBLIC \"-//W3C//DTD XHTML 1.0 Transitional//EN\" \"http://www.w3.org/TR/xhtml1/DTD/xhtml1-transitional.dtd\">\\n<!-- hostname: web003, edition-view: espncricinfo-en-in, country: unknown, cluster: www, created: 2018-10-31 06:30:28 -->\\n<html xmlns=\"http://www.w3.org/1999/xhtml\" xmlns:fb=\"http://www.facebook.com/2008/fbml\" xmlns:og=\"http://opengraphprotocol.org/schema/\" xmlns:fb=\"http://developers.facebook.com/schema/\" >\\n<head>\\n <script type=\"text/javascript\">var _sf_startpt=(new Date())'"
      ]
     },
     "execution_count": 2,
     "metadata": {},
     "output_type": "execute_result"
    }
   ],
   "source": [
    "r = requests.get('http://stats.espncricinfo.com/ci/content/records/335431.html')\n",
    "r.text[0:500]"
   ]
  },
  {
   "cell_type": "code",
   "execution_count": 3,
   "metadata": {},
   "outputs": [],
   "source": [
    "from bs4 import BeautifulSoup  \n",
    "soup = BeautifulSoup(r.text, 'html.parser')"
   ]
  },
  {
   "cell_type": "code",
   "execution_count": 4,
   "metadata": {},
   "outputs": [
    {
     "name": "stdout",
     "output_type": "stream",
     "text": [
      "The resulting object is of type <class 'bs4.element.ResultSet'>\n",
      "Total number of results, i.e total no of tests played till date are: 738\n"
     ]
    }
   ],
   "source": [
    "stats = soup.find_all('tr', attrs={'class':'data1'})\n",
    "print(\"The resulting object is of type {}\".format(type(stats)))\n",
    "print(\"Total number of results, i.e total no of tests played till date are: {}\".format(len(stats)))"
   ]
  },
  {
   "cell_type": "markdown",
   "metadata": {},
   "source": [
    "The Whole Data is present in form of a list in the <i>bs4.element.ResultSet</i>. \n",
    "<p>Each test series is in form of an element in list.</p>\n",
    "<p>Below is the structure of data in each element</p>"
   ]
  },
  {
   "cell_type": "code",
   "execution_count": 5,
   "metadata": {},
   "outputs": [
    {
     "data": {
      "text/plain": [
       "<tr class=\"data1\" data-days=\"685654\">\n",
       "<td class=\"left\"><a class=\"data-link\" href=\"/ci/engine/series/60260.html\">England in Australia Test Series</a></td>\n",
       "<td class=\"left\" nowrap=\"nowrap\">1876/77</td>\n",
       "<td nowrap=\"nowrap\"></td>\n",
       "<td class=\"left\" nowrap=\"nowrap\"><a class=\"data-link\" href=\"/ci/content/team/993001.html\">drawn</a></td>\n",
       "<td nowrap=\"nowrap\">1-1 (2)</td>\n",
       "</tr>"
      ]
     },
     "execution_count": 5,
     "metadata": {},
     "output_type": "execute_result"
    }
   ],
   "source": [
    "stats[0]"
   ]
  },
  {
   "cell_type": "markdown",
   "metadata": {},
   "source": [
    "### Data Structure of each table row of the data table\n",
    "- The Number 685654 in data-days attribute. Such numbers notably unique are present in all elements. must mean something.\n",
    "- The pathname of link to direct to page containing the test series results\n",
    "- The Test Series teams playing. It gives information about the home team and the away team.\n",
    "- The year the test series is played in\n",
    "- A link inside 4th td tag leading to the winning team's page. It's throwing 404 (Page not Found) error for drawn series.\n",
    "- The numerical Result of the series\n",
    "- Total number of matches played in the series. ( Given in the Bracket )"
   ]
  },
  {
   "cell_type": "markdown",
   "metadata": {},
   "source": [
    "So, the features (and it's values as per the first row) can be :\n",
    "<p>\n",
    "    <b>data-days</b> 685654<br>\n",
    "    <b>Match link</b> /ci/engine/series/60260.html<br>\n",
    "    <b>teams playing</b> England in Australia Test Series<br>\n",
    "    <b>Year</b> 1876/77<br>\n",
    "    <b>Team Won</b> Drawn<br>\n",
    "    <b>Result</b> 1-1 (first number corresponds to winner)<br>\n",
    "    <b>Matches Played</b> 2<br>\n",
    "</p>\n",
    "\n",
    "<p>The Dataframe would look something like this: </p>\n",
    "<table>\n",
    "    <thead>\n",
    "    <tr>\n",
    "        <td><b>data-days</b></td>\n",
    "        <td><b>Series link</b></td>\n",
    "        <td><b>Teams playing</b></td>\n",
    "        <td><b>Year</b></td>\n",
    "        <td><b>Team Won</b></td>\n",
    "        <td><b>Result</b></td>\n",
    "        <td><b>Matches Played</b></td>\n",
    "    </tr>\n",
    "    </thead>\n",
    "    <tr>\n",
    "        <td>685654<br></td>\n",
    "        <td>/ci/engine/series/60260.html<br></td>\n",
    "        <td>England in Australia Test Series<br></td>\n",
    "        <td>1876/77<br></td>\n",
    "        <td>Drawn<br></td>\n",
    "        <td>1-1<br></td>\n",
    "        <td>2<br></td>\n",
    "    </tr>\n",
    "</table>"
   ]
  },
  {
   "cell_type": "markdown",
   "metadata": {},
   "source": [
    "- We can Further divide the Team playing into Home team and away team. Some of the Series have Series name embedded in this section. So, we can add another column <b>Series Name</b> to it. \n",
    "- We can divide the Year to series <b>starting Year</b> and <b>ending Year</b>\n",
    "- The Result can be divided into <b>Home wins</b> and <b>away wins</b>"
   ]
  },
  {
   "cell_type": "markdown",
   "metadata": {},
   "source": [
    "<p>With updated features, the dataframe would look like this: </p>\n",
    "<table>\n",
    "    <thead>\n",
    "    <tr>\n",
    "        <td><b>datadaysId</b></td>\n",
    "        <td><b>Link</b></td>\n",
    "        <td><b>Name</b></td>\n",
    "        <td><b>Home</b></td>\n",
    "        <td><b>Away</b></td>\n",
    "        <td><b>startYear</b></td>\n",
    "        <td><b>endYear</b></td>\n",
    "        <td><b>TeamWon</b></td>\n",
    "        <td><b>HomeWins</b></td>\n",
    "        <td><b>AwayWins</b></td>\n",
    "        <td><b>Matches</b></td>\n",
    "    </tr>\n",
    "    </thead>\n",
    "    <tr>\n",
    "        <td>685654</td>\n",
    "        <td>/ci/engine/series/60260.html</td>\n",
    "        <td></td>\n",
    "        <td>Australia</td>\n",
    "        <td>England</td>\n",
    "        <td>1876</td>\n",
    "        <td>1877</td>\n",
    "        <td>Drawn</td>\n",
    "        <td>1</td>\n",
    "        <td>1</td>\n",
    "        <td>2</td>\n",
    "    </tr>\n",
    "</table>"
   ]
  },
  {
   "cell_type": "markdown",
   "metadata": {},
   "source": [
    "Now that we have format of the features, let's separate the values from the bs4 Resultset"
   ]
  },
  {
   "cell_type": "code",
   "execution_count": 6,
   "metadata": {},
   "outputs": [
    {
     "data": {
      "text/plain": [
       "<tr class=\"data1\" data-days=\"737346\">\n",
       "<td class=\"left\"><a class=\"data-link\" href=\"/ci/engine/series/1157748.html\">West Indies in India Test Series</a></td>\n",
       "<td class=\"left\" nowrap=\"nowrap\">2018/19</td>\n",
       "<td nowrap=\"nowrap\"></td>\n",
       "<td class=\"left\" nowrap=\"nowrap\"><a class=\"data-link\" href=\"/ci/content/team/6.html\">India</a></td>\n",
       "<td nowrap=\"nowrap\">2-0 (2)</td>\n",
       "</tr>"
      ]
     },
     "execution_count": 6,
     "metadata": {},
     "output_type": "execute_result"
    }
   ],
   "source": [
    "final_result = stats[-2]\n",
    "final_result"
   ]
  },
  {
   "cell_type": "markdown",
   "metadata": {},
   "source": [
    "This series is the inspiration for my data. So, this data is updated till date."
   ]
  },
  {
   "cell_type": "code",
   "execution_count": 7,
   "metadata": {},
   "outputs": [],
   "source": [
    "records = []\n",
    "for series in stats:\n",
    "    datadaysId = int(series['data-days'])\n",
    "    Link = series.find('a').get('href')\n",
    "    teams_text = series.find_all('td')[0].text\n",
    "    years = series.find_all('td')[1].text\n",
    "    winner = series.find_all('td')[3].text\n",
    "    result = series.find_all('td')[4].text\n",
    "    records.append((datadaysId, Link, teams_text, years, winner, result))"
   ]
  },
  {
   "cell_type": "code",
   "execution_count": 8,
   "metadata": {},
   "outputs": [
    {
     "data": {
      "text/plain": [
       "[(737313,\n",
       "  '/ci/engine/series/1119531.html',\n",
       "  'Pataudi Trophy (India in England)',\n",
       "  '2018',\n",
       "  'England',\n",
       "  '4-1 (5)'),\n",
       " (737346,\n",
       "  '/ci/engine/series/1157748.html',\n",
       "  'West Indies in India Test Series',\n",
       "  '2018/19',\n",
       "  'India',\n",
       "  '2-0 (2)'),\n",
       " (737351,\n",
       "  '/ci/engine/series/1157363.html',\n",
       "  'Pakistan v Australia Test Series (in United Arab Emirates)',\n",
       "  '2018/19',\n",
       "  'Pakistan',\n",
       "  '1-0 (2)')]"
      ]
     },
     "execution_count": 8,
     "metadata": {},
     "output_type": "execute_result"
    }
   ],
   "source": [
    "records[-3:]"
   ]
  },
  {
   "cell_type": "code",
   "execution_count": 9,
   "metadata": {},
   "outputs": [],
   "source": [
    "import pandas as pd\n",
    "series = pd.DataFrame(records, columns=['datadaysID', 'link', 'teams_text', 'years', 'winner', 'result'])"
   ]
  },
  {
   "cell_type": "code",
   "execution_count": 10,
   "metadata": {},
   "outputs": [
    {
     "data": {
      "text/html": [
       "<div>\n",
       "<style scoped>\n",
       "    .dataframe tbody tr th:only-of-type {\n",
       "        vertical-align: middle;\n",
       "    }\n",
       "\n",
       "    .dataframe tbody tr th {\n",
       "        vertical-align: top;\n",
       "    }\n",
       "\n",
       "    .dataframe thead th {\n",
       "        text-align: right;\n",
       "    }\n",
       "</style>\n",
       "<table border=\"1\" class=\"dataframe\">\n",
       "  <thead>\n",
       "    <tr style=\"text-align: right;\">\n",
       "      <th></th>\n",
       "      <th>datadaysID</th>\n",
       "      <th>link</th>\n",
       "      <th>teams_text</th>\n",
       "      <th>years</th>\n",
       "      <th>winner</th>\n",
       "      <th>result</th>\n",
       "    </tr>\n",
       "  </thead>\n",
       "  <tbody>\n",
       "    <tr>\n",
       "      <th>0</th>\n",
       "      <td>685654</td>\n",
       "      <td>/ci/engine/series/60260.html</td>\n",
       "      <td>England in Australia Test Series</td>\n",
       "      <td>1876/77</td>\n",
       "      <td>drawn</td>\n",
       "      <td>1-1 (2)</td>\n",
       "    </tr>\n",
       "    <tr>\n",
       "      <th>1</th>\n",
       "      <td>686294</td>\n",
       "      <td>/ci/engine/series/60261.html</td>\n",
       "      <td>England in Australia Test Match</td>\n",
       "      <td>1878/79</td>\n",
       "      <td>Australia</td>\n",
       "      <td>1-0 (1)</td>\n",
       "    </tr>\n",
       "    <tr>\n",
       "      <th>2</th>\n",
       "      <td>686907</td>\n",
       "      <td>/ci/engine/series/60262.html</td>\n",
       "      <td>Australia in England Test Match</td>\n",
       "      <td>1880</td>\n",
       "      <td>England</td>\n",
       "      <td>1-0 (1)</td>\n",
       "    </tr>\n",
       "    <tr>\n",
       "      <th>3</th>\n",
       "      <td>687459</td>\n",
       "      <td>/ci/engine/series/60263.html</td>\n",
       "      <td>England in Australia Test Series</td>\n",
       "      <td>1881/82</td>\n",
       "      <td>Australia</td>\n",
       "      <td>2-0 (4)</td>\n",
       "    </tr>\n",
       "    <tr>\n",
       "      <th>4</th>\n",
       "      <td>687627</td>\n",
       "      <td>/ci/engine/series/60264.html</td>\n",
       "      <td>Australia in England Test Match</td>\n",
       "      <td>1882</td>\n",
       "      <td>Australia</td>\n",
       "      <td>1-0 (1)</td>\n",
       "    </tr>\n",
       "  </tbody>\n",
       "</table>\n",
       "</div>"
      ],
      "text/plain": [
       "   datadaysID                          link                        teams_text  \\\n",
       "0      685654  /ci/engine/series/60260.html  England in Australia Test Series   \n",
       "1      686294  /ci/engine/series/60261.html   England in Australia Test Match   \n",
       "2      686907  /ci/engine/series/60262.html   Australia in England Test Match   \n",
       "3      687459  /ci/engine/series/60263.html  England in Australia Test Series   \n",
       "4      687627  /ci/engine/series/60264.html   Australia in England Test Match   \n",
       "\n",
       "     years     winner   result  \n",
       "0  1876/77      drawn  1-1 (2)  \n",
       "1  1878/79  Australia  1-0 (1)  \n",
       "2     1880    England  1-0 (1)  \n",
       "3  1881/82  Australia  2-0 (4)  \n",
       "4     1882  Australia  1-0 (1)  "
      ]
     },
     "execution_count": 10,
     "metadata": {},
     "output_type": "execute_result"
    }
   ],
   "source": [
    "series.head(5)"
   ]
  },
  {
   "cell_type": "code",
   "execution_count": 11,
   "metadata": {},
   "outputs": [
    {
     "data": {
      "text/html": [
       "<div>\n",
       "<style scoped>\n",
       "    .dataframe tbody tr th:only-of-type {\n",
       "        vertical-align: middle;\n",
       "    }\n",
       "\n",
       "    .dataframe tbody tr th {\n",
       "        vertical-align: top;\n",
       "    }\n",
       "\n",
       "    .dataframe thead th {\n",
       "        text-align: right;\n",
       "    }\n",
       "</style>\n",
       "<table border=\"1\" class=\"dataframe\">\n",
       "  <thead>\n",
       "    <tr style=\"text-align: right;\">\n",
       "      <th></th>\n",
       "      <th>datadaysID</th>\n",
       "      <th>link</th>\n",
       "      <th>teams_text</th>\n",
       "      <th>years</th>\n",
       "      <th>winner</th>\n",
       "      <th>result</th>\n",
       "    </tr>\n",
       "  </thead>\n",
       "  <tbody>\n",
       "    <tr>\n",
       "      <th>732</th>\n",
       "      <td>737236</td>\n",
       "      <td>/ci/engine/series/1135145.html</td>\n",
       "      <td>Sobers/Tissera Trophy (Sri Lanka in West Indies)</td>\n",
       "      <td>2018</td>\n",
       "      <td>drawn</td>\n",
       "      <td>1-1 (3)</td>\n",
       "    </tr>\n",
       "    <tr>\n",
       "      <th>733</th>\n",
       "      <td>737254</td>\n",
       "      <td>/ci/engine/series/1146713.html</td>\n",
       "      <td>Bangladesh in West Indies Test Series</td>\n",
       "      <td>2018</td>\n",
       "      <td>West Indies</td>\n",
       "      <td>2-0 (2)</td>\n",
       "    </tr>\n",
       "    <tr>\n",
       "      <th>734</th>\n",
       "      <td>737263</td>\n",
       "      <td>/ci/engine/series/1142576.html</td>\n",
       "      <td>South Africa in Sri Lanka Test Series</td>\n",
       "      <td>2018</td>\n",
       "      <td>Sri Lanka</td>\n",
       "      <td>2-0 (2)</td>\n",
       "    </tr>\n",
       "    <tr>\n",
       "      <th>735</th>\n",
       "      <td>737313</td>\n",
       "      <td>/ci/engine/series/1119531.html</td>\n",
       "      <td>Pataudi Trophy (India in England)</td>\n",
       "      <td>2018</td>\n",
       "      <td>England</td>\n",
       "      <td>4-1 (5)</td>\n",
       "    </tr>\n",
       "    <tr>\n",
       "      <th>736</th>\n",
       "      <td>737346</td>\n",
       "      <td>/ci/engine/series/1157748.html</td>\n",
       "      <td>West Indies in India Test Series</td>\n",
       "      <td>2018/19</td>\n",
       "      <td>India</td>\n",
       "      <td>2-0 (2)</td>\n",
       "    </tr>\n",
       "    <tr>\n",
       "      <th>737</th>\n",
       "      <td>737351</td>\n",
       "      <td>/ci/engine/series/1157363.html</td>\n",
       "      <td>Pakistan v Australia Test Series (in United Ar...</td>\n",
       "      <td>2018/19</td>\n",
       "      <td>Pakistan</td>\n",
       "      <td>1-0 (2)</td>\n",
       "    </tr>\n",
       "  </tbody>\n",
       "</table>\n",
       "</div>"
      ],
      "text/plain": [
       "     datadaysID                            link  \\\n",
       "732      737236  /ci/engine/series/1135145.html   \n",
       "733      737254  /ci/engine/series/1146713.html   \n",
       "734      737263  /ci/engine/series/1142576.html   \n",
       "735      737313  /ci/engine/series/1119531.html   \n",
       "736      737346  /ci/engine/series/1157748.html   \n",
       "737      737351  /ci/engine/series/1157363.html   \n",
       "\n",
       "                                            teams_text    years       winner  \\\n",
       "732   Sobers/Tissera Trophy (Sri Lanka in West Indies)     2018        drawn   \n",
       "733              Bangladesh in West Indies Test Series     2018  West Indies   \n",
       "734              South Africa in Sri Lanka Test Series     2018    Sri Lanka   \n",
       "735                  Pataudi Trophy (India in England)     2018      England   \n",
       "736                   West Indies in India Test Series  2018/19        India   \n",
       "737  Pakistan v Australia Test Series (in United Ar...  2018/19     Pakistan   \n",
       "\n",
       "      result  \n",
       "732  1-1 (3)  \n",
       "733  2-0 (2)  \n",
       "734  2-0 (2)  \n",
       "735  4-1 (5)  \n",
       "736  2-0 (2)  \n",
       "737  1-0 (2)  "
      ]
     },
     "execution_count": 11,
     "metadata": {},
     "output_type": "execute_result"
    }
   ],
   "source": [
    "series.tail(6)"
   ]
  },
  {
   "cell_type": "markdown",
   "metadata": {},
   "source": [
    "## Feature Value distribution\n",
    "\n",
    "Let's now see how the data is distributed across the whole Dataframe and if any data is outside the patern we assumed for each feature."
   ]
  },
  {
   "cell_type": "markdown",
   "metadata": {},
   "source": [
    "### 1. datadaysID"
   ]
  },
  {
   "cell_type": "code",
   "execution_count": 12,
   "metadata": {},
   "outputs": [
    {
     "name": "stdout",
     "output_type": "stream",
     "text": [
      "Total number of datadaysID elements are 738, number of unique id elements are 729\n"
     ]
    }
   ],
   "source": [
    "print(\"Total number of datadaysID elements are {}, number of unique id elements are {}\".format(len(series), series['datadaysID'].nunique()))"
   ]
  },
  {
   "cell_type": "markdown",
   "metadata": {},
   "source": [
    "9 datadaysID values are repeated. Lets check some of the most frequent datadaysID values"
   ]
  },
  {
   "cell_type": "code",
   "execution_count": 13,
   "metadata": {},
   "outputs": [
    {
     "data": {
      "text/plain": [
       "731538    2\n",
       "733630    2\n",
       "732576    2\n",
       "Name: datadaysID, dtype: int64"
      ]
     },
     "execution_count": 13,
     "metadata": {},
     "output_type": "execute_result"
    }
   ],
   "source": [
    "# Top 3 most occuring datadaysID values\n",
    "series['datadaysID'].value_counts()[:3]"
   ]
  },
  {
   "cell_type": "markdown",
   "metadata": {},
   "source": [
    "We can see that some of the datadaysID are not unique. There aren't any specific patterns for similar datadaysID values too (as shown below). Since we don't even know what the field represents in cricketing terminology, we can ignore the feature while analysing. But let's save it for now in the Dataframe."
   ]
  },
  {
   "cell_type": "code",
   "execution_count": 14,
   "metadata": {},
   "outputs": [
    {
     "data": {
      "text/html": [
       "<div>\n",
       "<style scoped>\n",
       "    .dataframe tbody tr th:only-of-type {\n",
       "        vertical-align: middle;\n",
       "    }\n",
       "\n",
       "    .dataframe tbody tr th {\n",
       "        vertical-align: top;\n",
       "    }\n",
       "\n",
       "    .dataframe thead th {\n",
       "        text-align: right;\n",
       "    }\n",
       "</style>\n",
       "<table border=\"1\" class=\"dataframe\">\n",
       "  <thead>\n",
       "    <tr style=\"text-align: right;\">\n",
       "      <th></th>\n",
       "      <th>datadaysID</th>\n",
       "      <th>link</th>\n",
       "      <th>teams_text</th>\n",
       "      <th>years</th>\n",
       "      <th>winner</th>\n",
       "      <th>result</th>\n",
       "    </tr>\n",
       "  </thead>\n",
       "  <tbody>\n",
       "    <tr>\n",
       "      <th>475</th>\n",
       "      <td>731538</td>\n",
       "      <td>/ci/engine/series/60737.html</td>\n",
       "      <td>Pakistan in Zimbabwe Test Series</td>\n",
       "      <td>2002/03</td>\n",
       "      <td>Pakistan</td>\n",
       "      <td>2-0 (2)</td>\n",
       "    </tr>\n",
       "    <tr>\n",
       "      <th>476</th>\n",
       "      <td>731538</td>\n",
       "      <td>/ci/engine/series/60736.html</td>\n",
       "      <td>Sri Lanka in South Africa Test Series</td>\n",
       "      <td>2002/03</td>\n",
       "      <td>South Africa</td>\n",
       "      <td>2-0 (2)</td>\n",
       "    </tr>\n",
       "  </tbody>\n",
       "</table>\n",
       "</div>"
      ],
      "text/plain": [
       "     datadaysID                          link  \\\n",
       "475      731538  /ci/engine/series/60737.html   \n",
       "476      731538  /ci/engine/series/60736.html   \n",
       "\n",
       "                                teams_text    years        winner   result  \n",
       "475       Pakistan in Zimbabwe Test Series  2002/03      Pakistan  2-0 (2)  \n",
       "476  Sri Lanka in South Africa Test Series  2002/03  South Africa  2-0 (2)  "
      ]
     },
     "execution_count": 14,
     "metadata": {},
     "output_type": "execute_result"
    }
   ],
   "source": [
    "series[series['datadaysID'] == 731538]"
   ]
  },
  {
   "cell_type": "markdown",
   "metadata": {},
   "source": [
    "### 2. link"
   ]
  },
  {
   "cell_type": "code",
   "execution_count": 15,
   "metadata": {},
   "outputs": [
    {
     "name": "stdout",
     "output_type": "stream",
     "text": [
      "Total number of links are 738, number of unique links are 738\n"
     ]
    }
   ],
   "source": [
    "print(\"Total number of links are {}, number of unique links are {}\".format(len(series), series['link'].nunique()))"
   ]
  },
  {
   "cell_type": "markdown",
   "metadata": {},
   "source": [
    "Each link representing a html page containing scorecard summary of each match in that series. There are no duplicate links."
   ]
  },
  {
   "cell_type": "markdown",
   "metadata": {},
   "source": [
    "### 3. teams_text"
   ]
  },
  {
   "cell_type": "code",
   "execution_count": 16,
   "metadata": {},
   "outputs": [
    {
     "data": {
      "text/plain": [
       "The Ashes (England in Australia)              35\n",
       "The Ashes (Australia in England)              35\n",
       "England in New Zealand Test Series            18\n",
       "New Zealand in England Test Series            17\n",
       "The Wisden Trophy (West Indies in England)    16\n",
       "Name: teams_text, dtype: int64"
      ]
     },
     "execution_count": 16,
     "metadata": {},
     "output_type": "execute_result"
    }
   ],
   "source": [
    "series['teams_text'].value_counts()[:5]"
   ]
  },
  {
   "cell_type": "markdown",
   "metadata": {},
   "source": [
    "The most common series is \"The Ashes\" with most number of matches played. \n",
    "<p>Some of the Series have names. All the teams we checked are in (Team A in Team B) format. <br>\n",
    "    We can find the countries by slicing at <b style=\"color: green\"><u>in</u></b> and checking if the strings (countries or part of their country names) are present in test playing nations. </p>\n",
    "<p>We can now check if all the text fields have exactly 2 names of test playing nations once we break the strings</p>"
   ]
  },
  {
   "cell_type": "code",
   "execution_count": 17,
   "metadata": {},
   "outputs": [],
   "source": [
    "test_playing_nations = ['India', 'England', 'Australia', 'South Africa', 'West Indies', 'New Zealand', 'Pakistan', 'Sri Lanka', 'Zimbabwe', 'Bangladesh', 'Ireland', 'Afghanistan']"
   ]
  },
  {
   "cell_type": "code",
   "execution_count": 18,
   "metadata": {},
   "outputs": [],
   "source": [
    "import re\n",
    "import numpy as np\n",
    "def split_teams(team, separator):\n",
    "    team = re.sub(r'[^a-zA-Z]', ' ', team).split()\n",
    "    result = []\n",
    "    for idx, name in enumerate(team):\n",
    "        if name.lower() == separator:\n",
    "            # team 1 (home)\n",
    "            if team[idx-1] in test_playing_nations:\n",
    "                result.append(team[idx-1])\n",
    "            elif (team[idx-2] + ' ' + team[idx-1]) in test_playing_nations:\n",
    "                result.append(team[idx-2] + ' ' + team[idx-1])\n",
    "            else:\n",
    "                result.append(np.NaN)\n",
    "            # team 2 (away)\n",
    "            if team[idx+1] in test_playing_nations:\n",
    "                result.append(team[idx+1])\n",
    "            elif (team[idx+1] + ' ' + team[idx+2]) in test_playing_nations:\n",
    "                result.append(team[idx+1] + ' ' + team[idx+2])\n",
    "            else:\n",
    "                result.append(np.NaN)\n",
    "            return result\n",
    "        \n",
    "#     return set(test_playing_nations) & set(team)\n",
    "\n",
    "# # np.char.array(q) + ' ' + np.char.array(q)"
   ]
  },
  {
   "cell_type": "code",
   "execution_count": 19,
   "metadata": {},
   "outputs": [],
   "source": [
    "series['Home'] = series['teams_text'].apply(lambda x: split_teams(x, 'in')[1])\n",
    "series['Away'] = series['teams_text'].apply(lambda x: split_teams(x, 'in')[0])"
   ]
  },
  {
   "cell_type": "code",
   "execution_count": 20,
   "metadata": {},
   "outputs": [
    {
     "data": {
      "text/html": [
       "<div>\n",
       "<style scoped>\n",
       "    .dataframe tbody tr th:only-of-type {\n",
       "        vertical-align: middle;\n",
       "    }\n",
       "\n",
       "    .dataframe tbody tr th {\n",
       "        vertical-align: top;\n",
       "    }\n",
       "\n",
       "    .dataframe thead th {\n",
       "        text-align: right;\n",
       "    }\n",
       "</style>\n",
       "<table border=\"1\" class=\"dataframe\">\n",
       "  <thead>\n",
       "    <tr style=\"text-align: right;\">\n",
       "      <th></th>\n",
       "      <th>datadaysID</th>\n",
       "      <th>link</th>\n",
       "      <th>teams_text</th>\n",
       "      <th>years</th>\n",
       "      <th>winner</th>\n",
       "      <th>result</th>\n",
       "      <th>Home</th>\n",
       "      <th>Away</th>\n",
       "    </tr>\n",
       "  </thead>\n",
       "  <tbody>\n",
       "    <tr>\n",
       "      <th>0</th>\n",
       "      <td>685654</td>\n",
       "      <td>/ci/engine/series/60260.html</td>\n",
       "      <td>England in Australia Test Series</td>\n",
       "      <td>1876/77</td>\n",
       "      <td>drawn</td>\n",
       "      <td>1-1 (2)</td>\n",
       "      <td>Australia</td>\n",
       "      <td>England</td>\n",
       "    </tr>\n",
       "    <tr>\n",
       "      <th>1</th>\n",
       "      <td>686294</td>\n",
       "      <td>/ci/engine/series/60261.html</td>\n",
       "      <td>England in Australia Test Match</td>\n",
       "      <td>1878/79</td>\n",
       "      <td>Australia</td>\n",
       "      <td>1-0 (1)</td>\n",
       "      <td>Australia</td>\n",
       "      <td>England</td>\n",
       "    </tr>\n",
       "    <tr>\n",
       "      <th>2</th>\n",
       "      <td>686907</td>\n",
       "      <td>/ci/engine/series/60262.html</td>\n",
       "      <td>Australia in England Test Match</td>\n",
       "      <td>1880</td>\n",
       "      <td>England</td>\n",
       "      <td>1-0 (1)</td>\n",
       "      <td>England</td>\n",
       "      <td>Australia</td>\n",
       "    </tr>\n",
       "    <tr>\n",
       "      <th>3</th>\n",
       "      <td>687459</td>\n",
       "      <td>/ci/engine/series/60263.html</td>\n",
       "      <td>England in Australia Test Series</td>\n",
       "      <td>1881/82</td>\n",
       "      <td>Australia</td>\n",
       "      <td>2-0 (4)</td>\n",
       "      <td>Australia</td>\n",
       "      <td>England</td>\n",
       "    </tr>\n",
       "    <tr>\n",
       "      <th>4</th>\n",
       "      <td>687627</td>\n",
       "      <td>/ci/engine/series/60264.html</td>\n",
       "      <td>Australia in England Test Match</td>\n",
       "      <td>1882</td>\n",
       "      <td>Australia</td>\n",
       "      <td>1-0 (1)</td>\n",
       "      <td>England</td>\n",
       "      <td>Australia</td>\n",
       "    </tr>\n",
       "  </tbody>\n",
       "</table>\n",
       "</div>"
      ],
      "text/plain": [
       "   datadaysID                          link                        teams_text  \\\n",
       "0      685654  /ci/engine/series/60260.html  England in Australia Test Series   \n",
       "1      686294  /ci/engine/series/60261.html   England in Australia Test Match   \n",
       "2      686907  /ci/engine/series/60262.html   Australia in England Test Match   \n",
       "3      687459  /ci/engine/series/60263.html  England in Australia Test Series   \n",
       "4      687627  /ci/engine/series/60264.html   Australia in England Test Match   \n",
       "\n",
       "     years     winner   result       Home       Away  \n",
       "0  1876/77      drawn  1-1 (2)  Australia    England  \n",
       "1  1878/79  Australia  1-0 (1)  Australia    England  \n",
       "2     1880    England  1-0 (1)    England  Australia  \n",
       "3  1881/82  Australia  2-0 (4)  Australia    England  \n",
       "4     1882  Australia  1-0 (1)    England  Australia  "
      ]
     },
     "execution_count": 20,
     "metadata": {},
     "output_type": "execute_result"
    }
   ],
   "source": [
    "series.head()"
   ]
  },
  {
   "cell_type": "markdown",
   "metadata": {},
   "source": [
    "Looks good, We separated out both home and away teams. let's see if any null values were created while breaking the teams string."
   ]
  },
  {
   "cell_type": "code",
   "execution_count": 21,
   "metadata": {},
   "outputs": [
    {
     "data": {
      "text/html": [
       "<div>\n",
       "<style scoped>\n",
       "    .dataframe tbody tr th:only-of-type {\n",
       "        vertical-align: middle;\n",
       "    }\n",
       "\n",
       "    .dataframe tbody tr th {\n",
       "        vertical-align: top;\n",
       "    }\n",
       "\n",
       "    .dataframe thead th {\n",
       "        text-align: right;\n",
       "    }\n",
       "</style>\n",
       "<table border=\"1\" class=\"dataframe\">\n",
       "  <thead>\n",
       "    <tr style=\"text-align: right;\">\n",
       "      <th></th>\n",
       "      <th>datadaysID</th>\n",
       "      <th>link</th>\n",
       "      <th>teams_text</th>\n",
       "      <th>years</th>\n",
       "      <th>winner</th>\n",
       "      <th>result</th>\n",
       "      <th>Home</th>\n",
       "      <th>Away</th>\n",
       "    </tr>\n",
       "  </thead>\n",
       "  <tbody>\n",
       "    <tr>\n",
       "      <th>461</th>\n",
       "      <td>731256</td>\n",
       "      <td>/ci/engine/series/60722.html</td>\n",
       "      <td>Pakistan v West Indies Test Series (in United ...</td>\n",
       "      <td>2001/02</td>\n",
       "      <td>Pakistan</td>\n",
       "      <td>2-0 (2)</td>\n",
       "      <td>NaN</td>\n",
       "      <td>NaN</td>\n",
       "    </tr>\n",
       "    <tr>\n",
       "      <th>606</th>\n",
       "      <td>734465</td>\n",
       "      <td>/ci/engine/series/461555.html</td>\n",
       "      <td>Pakistan v South Africa Test Series (in United...</td>\n",
       "      <td>2010/11</td>\n",
       "      <td>drawn</td>\n",
       "      <td>0-0 (2)</td>\n",
       "      <td>NaN</td>\n",
       "      <td>NaN</td>\n",
       "    </tr>\n",
       "    <tr>\n",
       "      <th>620</th>\n",
       "      <td>734813</td>\n",
       "      <td>/ci/engine/series/530421.html</td>\n",
       "      <td>Pakistan v Sri Lanka Test Series (in United Ar...</td>\n",
       "      <td>2011/12</td>\n",
       "      <td>Pakistan</td>\n",
       "      <td>1-0 (3)</td>\n",
       "      <td>NaN</td>\n",
       "      <td>NaN</td>\n",
       "    </tr>\n",
       "    <tr>\n",
       "      <th>628</th>\n",
       "      <td>734904</td>\n",
       "      <td>/ci/engine/series/531617.html</td>\n",
       "      <td>Pakistan v England Test Series (in United Arab...</td>\n",
       "      <td>2011/12</td>\n",
       "      <td>Pakistan</td>\n",
       "      <td>3-0 (3)</td>\n",
       "      <td>NaN</td>\n",
       "      <td>NaN</td>\n",
       "    </tr>\n",
       "    <tr>\n",
       "      <th>653</th>\n",
       "      <td>735532</td>\n",
       "      <td>/ci/engine/series/649077.html</td>\n",
       "      <td>Pakistan v South Africa Test Series (in United...</td>\n",
       "      <td>2013/14</td>\n",
       "      <td>drawn</td>\n",
       "      <td>1-1 (2)</td>\n",
       "      <td>NaN</td>\n",
       "      <td>NaN</td>\n",
       "    </tr>\n",
       "    <tr>\n",
       "      <th>658</th>\n",
       "      <td>735618</td>\n",
       "      <td>/ci/engine/series/657619.html</td>\n",
       "      <td>Pakistan v Sri Lanka Test Series (in United Ar...</td>\n",
       "      <td>2013/14</td>\n",
       "      <td>drawn</td>\n",
       "      <td>1-1 (3)</td>\n",
       "      <td>NaN</td>\n",
       "      <td>NaN</td>\n",
       "    </tr>\n",
       "    <tr>\n",
       "      <th>669</th>\n",
       "      <td>735905</td>\n",
       "      <td>/ci/engine/series/727915.html</td>\n",
       "      <td>Pakistan v Australia Test Series (in United Ar...</td>\n",
       "      <td>2014/15</td>\n",
       "      <td>Pakistan</td>\n",
       "      <td>2-0 (2)</td>\n",
       "      <td>NaN</td>\n",
       "      <td>NaN</td>\n",
       "    </tr>\n",
       "    <tr>\n",
       "      <th>671</th>\n",
       "      <td>735932</td>\n",
       "      <td>/ci/engine/series/742603.html</td>\n",
       "      <td>Pakistan v New Zealand Test Series (in United ...</td>\n",
       "      <td>2014/15</td>\n",
       "      <td>drawn</td>\n",
       "      <td>1-1 (3)</td>\n",
       "      <td>NaN</td>\n",
       "      <td>NaN</td>\n",
       "    </tr>\n",
       "    <tr>\n",
       "      <th>685</th>\n",
       "      <td>736272</td>\n",
       "      <td>/ci/engine/series/902621.html</td>\n",
       "      <td>Pakistan v England Test Series (in United Arab...</td>\n",
       "      <td>2015/16</td>\n",
       "      <td>Pakistan</td>\n",
       "      <td>2-0 (3)</td>\n",
       "      <td>NaN</td>\n",
       "      <td>NaN</td>\n",
       "    </tr>\n",
       "    <tr>\n",
       "      <th>700</th>\n",
       "      <td>736636</td>\n",
       "      <td>/ci/engine/series/1050207.html</td>\n",
       "      <td>Pakistan v West Indies Test Series (in United ...</td>\n",
       "      <td>2016/17</td>\n",
       "      <td>Pakistan</td>\n",
       "      <td>2-1 (3)</td>\n",
       "      <td>NaN</td>\n",
       "      <td>NaN</td>\n",
       "    </tr>\n",
       "    <tr>\n",
       "      <th>719</th>\n",
       "      <td>736977</td>\n",
       "      <td>/ci/engine/series/1120280.html</td>\n",
       "      <td>Pakistan v Sri Lanka Test Series (in United Ar...</td>\n",
       "      <td>2017/18</td>\n",
       "      <td>Sri Lanka</td>\n",
       "      <td>2-0 (2)</td>\n",
       "      <td>NaN</td>\n",
       "      <td>NaN</td>\n",
       "    </tr>\n",
       "    <tr>\n",
       "      <th>737</th>\n",
       "      <td>737351</td>\n",
       "      <td>/ci/engine/series/1157363.html</td>\n",
       "      <td>Pakistan v Australia Test Series (in United Ar...</td>\n",
       "      <td>2018/19</td>\n",
       "      <td>Pakistan</td>\n",
       "      <td>1-0 (2)</td>\n",
       "      <td>NaN</td>\n",
       "      <td>NaN</td>\n",
       "    </tr>\n",
       "  </tbody>\n",
       "</table>\n",
       "</div>"
      ],
      "text/plain": [
       "     datadaysID                            link  \\\n",
       "461      731256    /ci/engine/series/60722.html   \n",
       "606      734465   /ci/engine/series/461555.html   \n",
       "620      734813   /ci/engine/series/530421.html   \n",
       "628      734904   /ci/engine/series/531617.html   \n",
       "653      735532   /ci/engine/series/649077.html   \n",
       "658      735618   /ci/engine/series/657619.html   \n",
       "669      735905   /ci/engine/series/727915.html   \n",
       "671      735932   /ci/engine/series/742603.html   \n",
       "685      736272   /ci/engine/series/902621.html   \n",
       "700      736636  /ci/engine/series/1050207.html   \n",
       "719      736977  /ci/engine/series/1120280.html   \n",
       "737      737351  /ci/engine/series/1157363.html   \n",
       "\n",
       "                                            teams_text    years     winner  \\\n",
       "461  Pakistan v West Indies Test Series (in United ...  2001/02   Pakistan   \n",
       "606  Pakistan v South Africa Test Series (in United...  2010/11      drawn   \n",
       "620  Pakistan v Sri Lanka Test Series (in United Ar...  2011/12   Pakistan   \n",
       "628  Pakistan v England Test Series (in United Arab...  2011/12   Pakistan   \n",
       "653  Pakistan v South Africa Test Series (in United...  2013/14      drawn   \n",
       "658  Pakistan v Sri Lanka Test Series (in United Ar...  2013/14      drawn   \n",
       "669  Pakistan v Australia Test Series (in United Ar...  2014/15   Pakistan   \n",
       "671  Pakistan v New Zealand Test Series (in United ...  2014/15      drawn   \n",
       "685  Pakistan v England Test Series (in United Arab...  2015/16   Pakistan   \n",
       "700  Pakistan v West Indies Test Series (in United ...  2016/17   Pakistan   \n",
       "719  Pakistan v Sri Lanka Test Series (in United Ar...  2017/18  Sri Lanka   \n",
       "737  Pakistan v Australia Test Series (in United Ar...  2018/19   Pakistan   \n",
       "\n",
       "      result Home Away  \n",
       "461  2-0 (2)  NaN  NaN  \n",
       "606  0-0 (2)  NaN  NaN  \n",
       "620  1-0 (3)  NaN  NaN  \n",
       "628  3-0 (3)  NaN  NaN  \n",
       "653  1-1 (2)  NaN  NaN  \n",
       "658  1-1 (3)  NaN  NaN  \n",
       "669  2-0 (2)  NaN  NaN  \n",
       "671  1-1 (3)  NaN  NaN  \n",
       "685  2-0 (3)  NaN  NaN  \n",
       "700  2-1 (3)  NaN  NaN  \n",
       "719  2-0 (2)  NaN  NaN  \n",
       "737  1-0 (2)  NaN  NaN  "
      ]
     },
     "execution_count": 21,
     "metadata": {},
     "output_type": "execute_result"
    }
   ],
   "source": [
    "series[series['Home'].isnull()]"
   ]
  },
  {
   "cell_type": "markdown",
   "metadata": {},
   "source": [
    "<p>Quite a few. These strings are in <b>C1 v C2(in C3)</b> format. </p>\n",
    "<p>All these matches have pakisthan in common. Terrorists attacked Sri lankan bus carrying their cricketers to the stadium to play pakisthan in 2011(i guess). Few were injured. So, cricketing nations banned playing in pakisthan citing it unsafe. Pakisthan had to move their venue to a new place, United Arab Emirates, their new home for the matches to come. </p>\n",
    "<p>We have to break the countries with <b>v</b> rather than in to get the Home Away teams</p>"
   ]
  },
  {
   "cell_type": "code",
   "execution_count": 22,
   "metadata": {},
   "outputs": [
    {
     "data": {
      "text/html": [
       "<div>\n",
       "<style scoped>\n",
       "    .dataframe tbody tr th:only-of-type {\n",
       "        vertical-align: middle;\n",
       "    }\n",
       "\n",
       "    .dataframe tbody tr th {\n",
       "        vertical-align: top;\n",
       "    }\n",
       "\n",
       "    .dataframe thead th {\n",
       "        text-align: right;\n",
       "    }\n",
       "</style>\n",
       "<table border=\"1\" class=\"dataframe\">\n",
       "  <thead>\n",
       "    <tr style=\"text-align: right;\">\n",
       "      <th></th>\n",
       "      <th>datadaysID</th>\n",
       "      <th>link</th>\n",
       "      <th>teams_text</th>\n",
       "      <th>years</th>\n",
       "      <th>winner</th>\n",
       "      <th>result</th>\n",
       "      <th>Home</th>\n",
       "      <th>Away</th>\n",
       "    </tr>\n",
       "  </thead>\n",
       "  <tbody>\n",
       "    <tr>\n",
       "      <th>36</th>\n",
       "      <td>698562</td>\n",
       "      <td>/ci/engine/series/60297.html</td>\n",
       "      <td>Australia v South Africa Test Series (in England)</td>\n",
       "      <td>1912</td>\n",
       "      <td>Australia</td>\n",
       "      <td>2-0 (3)</td>\n",
       "      <td>England</td>\n",
       "      <td>NaN</td>\n",
       "    </tr>\n",
       "    <tr>\n",
       "      <th>418</th>\n",
       "      <td>730437</td>\n",
       "      <td>/ci/engine/series/60678.html</td>\n",
       "      <td>South Africa v Zimbabwe Test Series (in South ...</td>\n",
       "      <td>1999/00</td>\n",
       "      <td>South Africa</td>\n",
       "      <td>2-0 (2)</td>\n",
       "      <td>South Africa</td>\n",
       "      <td>NaN</td>\n",
       "    </tr>\n",
       "    <tr>\n",
       "      <th>472</th>\n",
       "      <td>731510</td>\n",
       "      <td>/ci/engine/series/60732.html</td>\n",
       "      <td>Australia v Pakistan Test Series (in Sri Lanka...</td>\n",
       "      <td>2002/03</td>\n",
       "      <td>Australia</td>\n",
       "      <td>3-0 (3)</td>\n",
       "      <td>Sri Lanka</td>\n",
       "      <td>NaN</td>\n",
       "    </tr>\n",
       "    <tr>\n",
       "      <th>530</th>\n",
       "      <td>732601</td>\n",
       "      <td>/ci/engine/series/209960.html</td>\n",
       "      <td>ICC Super Series Test Match (ICC World XI in A...</td>\n",
       "      <td>2005/06</td>\n",
       "      <td>Australia</td>\n",
       "      <td>1-0 (1)</td>\n",
       "      <td>Australia</td>\n",
       "      <td>NaN</td>\n",
       "    </tr>\n",
       "  </tbody>\n",
       "</table>\n",
       "</div>"
      ],
      "text/plain": [
       "     datadaysID                           link  \\\n",
       "36       698562   /ci/engine/series/60297.html   \n",
       "418      730437   /ci/engine/series/60678.html   \n",
       "472      731510   /ci/engine/series/60732.html   \n",
       "530      732601  /ci/engine/series/209960.html   \n",
       "\n",
       "                                            teams_text    years        winner  \\\n",
       "36   Australia v South Africa Test Series (in England)     1912     Australia   \n",
       "418  South Africa v Zimbabwe Test Series (in South ...  1999/00  South Africa   \n",
       "472  Australia v Pakistan Test Series (in Sri Lanka...  2002/03     Australia   \n",
       "530  ICC Super Series Test Match (ICC World XI in A...  2005/06     Australia   \n",
       "\n",
       "      result          Home Away  \n",
       "36   2-0 (3)       England  NaN  \n",
       "418  2-0 (2)  South Africa  NaN  \n",
       "472  3-0 (3)     Sri Lanka  NaN  \n",
       "530  1-0 (1)     Australia  NaN  "
      ]
     },
     "execution_count": 22,
     "metadata": {},
     "output_type": "execute_result"
    }
   ],
   "source": [
    "series[series['Away'].isnull() & series['Home'].notnull()]"
   ]
  },
  {
   "cell_type": "markdown",
   "metadata": {},
   "source": [
    "3 more neutral venues with C1 v C2 ( in C3 ) format. A Super Series Match between then World Champions and Rest of the world."
   ]
  },
  {
   "cell_type": "code",
   "execution_count": 23,
   "metadata": {},
   "outputs": [],
   "source": [
    "series.loc[530, 'Away'] = 'ICC World XI'\n",
    "series.loc[series['Away'].isnull() & series['Home'].notnull(), 'Home'] = np.NaN"
   ]
  },
  {
   "cell_type": "code",
   "execution_count": 24,
   "metadata": {},
   "outputs": [],
   "source": [
    "series.loc[series['Home'].isnull(), 'Home'] = series['teams_text'][series['Home'].isnull()].apply(lambda x: split_teams(x, 'v')[0])\n",
    "series.loc[series['Away'].isnull(), 'Away'] = series['teams_text'][series['Away'].isnull()].apply(lambda x: split_teams(x, 'v')[1])"
   ]
  },
  {
   "cell_type": "code",
   "execution_count": 25,
   "metadata": {},
   "outputs": [
    {
     "data": {
      "text/html": [
       "<div>\n",
       "<style scoped>\n",
       "    .dataframe tbody tr th:only-of-type {\n",
       "        vertical-align: middle;\n",
       "    }\n",
       "\n",
       "    .dataframe tbody tr th {\n",
       "        vertical-align: top;\n",
       "    }\n",
       "\n",
       "    .dataframe thead th {\n",
       "        text-align: right;\n",
       "    }\n",
       "</style>\n",
       "<table border=\"1\" class=\"dataframe\">\n",
       "  <thead>\n",
       "    <tr style=\"text-align: right;\">\n",
       "      <th></th>\n",
       "      <th>datadaysID</th>\n",
       "      <th>link</th>\n",
       "      <th>teams_text</th>\n",
       "      <th>years</th>\n",
       "      <th>winner</th>\n",
       "      <th>result</th>\n",
       "      <th>Home</th>\n",
       "      <th>Away</th>\n",
       "    </tr>\n",
       "  </thead>\n",
       "  <tbody>\n",
       "    <tr>\n",
       "      <th>733</th>\n",
       "      <td>737254</td>\n",
       "      <td>/ci/engine/series/1146713.html</td>\n",
       "      <td>Bangladesh in West Indies Test Series</td>\n",
       "      <td>2018</td>\n",
       "      <td>West Indies</td>\n",
       "      <td>2-0 (2)</td>\n",
       "      <td>West Indies</td>\n",
       "      <td>Bangladesh</td>\n",
       "    </tr>\n",
       "    <tr>\n",
       "      <th>734</th>\n",
       "      <td>737263</td>\n",
       "      <td>/ci/engine/series/1142576.html</td>\n",
       "      <td>South Africa in Sri Lanka Test Series</td>\n",
       "      <td>2018</td>\n",
       "      <td>Sri Lanka</td>\n",
       "      <td>2-0 (2)</td>\n",
       "      <td>Sri Lanka</td>\n",
       "      <td>South Africa</td>\n",
       "    </tr>\n",
       "    <tr>\n",
       "      <th>735</th>\n",
       "      <td>737313</td>\n",
       "      <td>/ci/engine/series/1119531.html</td>\n",
       "      <td>Pataudi Trophy (India in England)</td>\n",
       "      <td>2018</td>\n",
       "      <td>England</td>\n",
       "      <td>4-1 (5)</td>\n",
       "      <td>England</td>\n",
       "      <td>India</td>\n",
       "    </tr>\n",
       "    <tr>\n",
       "      <th>736</th>\n",
       "      <td>737346</td>\n",
       "      <td>/ci/engine/series/1157748.html</td>\n",
       "      <td>West Indies in India Test Series</td>\n",
       "      <td>2018/19</td>\n",
       "      <td>India</td>\n",
       "      <td>2-0 (2)</td>\n",
       "      <td>India</td>\n",
       "      <td>West Indies</td>\n",
       "    </tr>\n",
       "    <tr>\n",
       "      <th>737</th>\n",
       "      <td>737351</td>\n",
       "      <td>/ci/engine/series/1157363.html</td>\n",
       "      <td>Pakistan v Australia Test Series (in United Ar...</td>\n",
       "      <td>2018/19</td>\n",
       "      <td>Pakistan</td>\n",
       "      <td>1-0 (2)</td>\n",
       "      <td>Pakistan</td>\n",
       "      <td>Australia</td>\n",
       "    </tr>\n",
       "  </tbody>\n",
       "</table>\n",
       "</div>"
      ],
      "text/plain": [
       "     datadaysID                            link  \\\n",
       "733      737254  /ci/engine/series/1146713.html   \n",
       "734      737263  /ci/engine/series/1142576.html   \n",
       "735      737313  /ci/engine/series/1119531.html   \n",
       "736      737346  /ci/engine/series/1157748.html   \n",
       "737      737351  /ci/engine/series/1157363.html   \n",
       "\n",
       "                                            teams_text    years       winner  \\\n",
       "733              Bangladesh in West Indies Test Series     2018  West Indies   \n",
       "734              South Africa in Sri Lanka Test Series     2018    Sri Lanka   \n",
       "735                  Pataudi Trophy (India in England)     2018      England   \n",
       "736                   West Indies in India Test Series  2018/19        India   \n",
       "737  Pakistan v Australia Test Series (in United Ar...  2018/19     Pakistan   \n",
       "\n",
       "      result         Home          Away  \n",
       "733  2-0 (2)  West Indies    Bangladesh  \n",
       "734  2-0 (2)    Sri Lanka  South Africa  \n",
       "735  4-1 (5)      England         India  \n",
       "736  2-0 (2)        India   West Indies  \n",
       "737  1-0 (2)     Pakistan     Australia  "
      ]
     },
     "execution_count": 25,
     "metadata": {},
     "output_type": "execute_result"
    }
   ],
   "source": [
    "series.tail()"
   ]
  },
  {
   "cell_type": "markdown",
   "metadata": {},
   "source": [
    "### Home Away Format from teams text\n",
    "\n",
    "<table align=\"left\" style=\"width: 50%;\">\n",
    "    <tr>\n",
    "        <td></td>\n",
    "        <th>T1 in T2</th>\n",
    "        <th>T1 v T2</th>\n",
    "    </tr>\n",
    "    <tr>\n",
    "        <th>Home</th>\n",
    "        <td>T2</td>\n",
    "        <td>T1</td>\n",
    "    </tr>\n",
    "    <tr>\n",
    "        <th>Away</th>\n",
    "        <td>T1</td>\n",
    "        <td>T2</td>\n",
    "    </tr>\n",
    "</table>"
   ]
  },
  {
   "cell_type": "code",
   "execution_count": 26,
   "metadata": {},
   "outputs": [
    {
     "data": {
      "text/plain": [
       "Home    0\n",
       "Away    0\n",
       "dtype: int64"
      ]
     },
     "execution_count": 26,
     "metadata": {},
     "output_type": "execute_result"
    }
   ],
   "source": [
    "# no missing values\n",
    "series[['Home', 'Away']].isnull().sum()"
   ]
  },
  {
   "cell_type": "markdown",
   "metadata": {},
   "source": [
    "### 4. years"
   ]
  },
  {
   "cell_type": "markdown",
   "metadata": {},
   "source": [
    "season can be in one year or across 2 years if it starts at the end of the year."
   ]
  },
  {
   "cell_type": "code",
   "execution_count": 27,
   "metadata": {},
   "outputs": [],
   "source": [
    "# divide year to starting and ending year\n",
    "def years(year):\n",
    "    if '/' in year:\n",
    "        year = year.split('/')\n",
    "        year[1] = year[0][:2] + year[1]\n",
    "        return tuple(map(int, year))\n",
    "    else:\n",
    "        return int(year), int(year)"
   ]
  },
  {
   "cell_type": "code",
   "execution_count": 28,
   "metadata": {},
   "outputs": [
    {
     "data": {
      "text/html": [
       "<div>\n",
       "<style scoped>\n",
       "    .dataframe tbody tr th:only-of-type {\n",
       "        vertical-align: middle;\n",
       "    }\n",
       "\n",
       "    .dataframe tbody tr th {\n",
       "        vertical-align: top;\n",
       "    }\n",
       "\n",
       "    .dataframe thead th {\n",
       "        text-align: right;\n",
       "    }\n",
       "</style>\n",
       "<table border=\"1\" class=\"dataframe\">\n",
       "  <thead>\n",
       "    <tr style=\"text-align: right;\">\n",
       "      <th></th>\n",
       "      <th>datadaysID</th>\n",
       "      <th>link</th>\n",
       "      <th>teams_text</th>\n",
       "      <th>years</th>\n",
       "      <th>winner</th>\n",
       "      <th>result</th>\n",
       "      <th>Home</th>\n",
       "      <th>Away</th>\n",
       "      <th>start</th>\n",
       "      <th>end</th>\n",
       "    </tr>\n",
       "  </thead>\n",
       "  <tbody>\n",
       "    <tr>\n",
       "      <th>0</th>\n",
       "      <td>685654</td>\n",
       "      <td>/ci/engine/series/60260.html</td>\n",
       "      <td>England in Australia Test Series</td>\n",
       "      <td>1876/77</td>\n",
       "      <td>drawn</td>\n",
       "      <td>1-1 (2)</td>\n",
       "      <td>Australia</td>\n",
       "      <td>England</td>\n",
       "      <td>1876</td>\n",
       "      <td>1877</td>\n",
       "    </tr>\n",
       "    <tr>\n",
       "      <th>1</th>\n",
       "      <td>686294</td>\n",
       "      <td>/ci/engine/series/60261.html</td>\n",
       "      <td>England in Australia Test Match</td>\n",
       "      <td>1878/79</td>\n",
       "      <td>Australia</td>\n",
       "      <td>1-0 (1)</td>\n",
       "      <td>Australia</td>\n",
       "      <td>England</td>\n",
       "      <td>1878</td>\n",
       "      <td>1879</td>\n",
       "    </tr>\n",
       "    <tr>\n",
       "      <th>2</th>\n",
       "      <td>686907</td>\n",
       "      <td>/ci/engine/series/60262.html</td>\n",
       "      <td>Australia in England Test Match</td>\n",
       "      <td>1880</td>\n",
       "      <td>England</td>\n",
       "      <td>1-0 (1)</td>\n",
       "      <td>England</td>\n",
       "      <td>Australia</td>\n",
       "      <td>1880</td>\n",
       "      <td>1880</td>\n",
       "    </tr>\n",
       "    <tr>\n",
       "      <th>3</th>\n",
       "      <td>687459</td>\n",
       "      <td>/ci/engine/series/60263.html</td>\n",
       "      <td>England in Australia Test Series</td>\n",
       "      <td>1881/82</td>\n",
       "      <td>Australia</td>\n",
       "      <td>2-0 (4)</td>\n",
       "      <td>Australia</td>\n",
       "      <td>England</td>\n",
       "      <td>1881</td>\n",
       "      <td>1882</td>\n",
       "    </tr>\n",
       "    <tr>\n",
       "      <th>4</th>\n",
       "      <td>687627</td>\n",
       "      <td>/ci/engine/series/60264.html</td>\n",
       "      <td>Australia in England Test Match</td>\n",
       "      <td>1882</td>\n",
       "      <td>Australia</td>\n",
       "      <td>1-0 (1)</td>\n",
       "      <td>England</td>\n",
       "      <td>Australia</td>\n",
       "      <td>1882</td>\n",
       "      <td>1882</td>\n",
       "    </tr>\n",
       "  </tbody>\n",
       "</table>\n",
       "</div>"
      ],
      "text/plain": [
       "   datadaysID                          link                        teams_text  \\\n",
       "0      685654  /ci/engine/series/60260.html  England in Australia Test Series   \n",
       "1      686294  /ci/engine/series/60261.html   England in Australia Test Match   \n",
       "2      686907  /ci/engine/series/60262.html   Australia in England Test Match   \n",
       "3      687459  /ci/engine/series/60263.html  England in Australia Test Series   \n",
       "4      687627  /ci/engine/series/60264.html   Australia in England Test Match   \n",
       "\n",
       "     years     winner   result       Home       Away  start   end  \n",
       "0  1876/77      drawn  1-1 (2)  Australia    England   1876  1877  \n",
       "1  1878/79  Australia  1-0 (1)  Australia    England   1878  1879  \n",
       "2     1880    England  1-0 (1)    England  Australia   1880  1880  \n",
       "3  1881/82  Australia  2-0 (4)  Australia    England   1881  1882  \n",
       "4     1882  Australia  1-0 (1)    England  Australia   1882  1882  "
      ]
     },
     "execution_count": 28,
     "metadata": {},
     "output_type": "execute_result"
    }
   ],
   "source": [
    "series = series.merge(series['years'].apply(lambda x: pd.Series({'start': years(x)[0], 'end': years(x)[1]})), left_index=True, right_index=True)\n",
    "series.head()"
   ]
  },
  {
   "cell_type": "markdown",
   "metadata": {},
   "source": [
    "### 5. result"
   ]
  },
  {
   "cell_type": "markdown",
   "metadata": {},
   "source": [
    "<b>Format</b>: matches winner won - matches loser won ( total matches won )"
   ]
  },
  {
   "cell_type": "code",
   "execution_count": 29,
   "metadata": {},
   "outputs": [
    {
     "name": "stdout",
     "output_type": "stream",
     "text": [
      "empty values in result: 8\n",
      "[39, 206, 225, 229, 288, 357, 411, 463]\n"
     ]
    }
   ],
   "source": [
    "print(\"empty values in result: {}\".format(sum(series['result'] == '')))\n",
    "missing_result = series[series['result'] == ''].index.tolist()\n",
    "print(missing_result)"
   ]
  },
  {
   "cell_type": "code",
   "execution_count": 30,
   "metadata": {},
   "outputs": [],
   "source": [
    "# drop corresponsing rows\n",
    "series.drop(missing_result, inplace=True)"
   ]
  },
  {
   "cell_type": "code",
   "execution_count": 31,
   "metadata": {},
   "outputs": [],
   "source": [
    "# Function to break the result into [home wins, away wins, total matches, total draw]\n",
    "def result_break(row):\n",
    "#     print(row)\n",
    "    res = row['result'].split()\n",
    "    result = res[0].split('-')\n",
    "    if row['winner'] == row['Away']:\n",
    "        result.reverse()\n",
    "    result.append(re.sub(r'[^\\d+]', '', res[1]))\n",
    "    result = list(map(int, result))\n",
    "    result.append(result[2] - (result[0]+result[1]))\n",
    "    return pd.Series({'home_wins': result[0], 'away_wins': result[1], 'matches_drawn': result[3], 'total_matches': result[2]})\n",
    "#     return result\n",
    "#     return pd.Series({'home_wins': result_break(x)[0], 'away_wins': result_break(x)[1], 'matches_drawn': result_break(x)[3], 'total_matches': result_break(x)[2]})"
   ]
  },
  {
   "cell_type": "code",
   "execution_count": 32,
   "metadata": {},
   "outputs": [
    {
     "data": {
      "text/html": [
       "<div>\n",
       "<style scoped>\n",
       "    .dataframe tbody tr th:only-of-type {\n",
       "        vertical-align: middle;\n",
       "    }\n",
       "\n",
       "    .dataframe tbody tr th {\n",
       "        vertical-align: top;\n",
       "    }\n",
       "\n",
       "    .dataframe thead th {\n",
       "        text-align: right;\n",
       "    }\n",
       "</style>\n",
       "<table border=\"1\" class=\"dataframe\">\n",
       "  <thead>\n",
       "    <tr style=\"text-align: right;\">\n",
       "      <th></th>\n",
       "      <th>datadaysID</th>\n",
       "      <th>link</th>\n",
       "      <th>teams_text</th>\n",
       "      <th>years</th>\n",
       "      <th>winner</th>\n",
       "      <th>result</th>\n",
       "      <th>Home</th>\n",
       "      <th>Away</th>\n",
       "      <th>start</th>\n",
       "      <th>end</th>\n",
       "      <th>home_wins</th>\n",
       "      <th>away_wins</th>\n",
       "      <th>matches_drawn</th>\n",
       "      <th>total_matches</th>\n",
       "    </tr>\n",
       "  </thead>\n",
       "  <tbody>\n",
       "    <tr>\n",
       "      <th>0</th>\n",
       "      <td>685654</td>\n",
       "      <td>/ci/engine/series/60260.html</td>\n",
       "      <td>England in Australia Test Series</td>\n",
       "      <td>1876/77</td>\n",
       "      <td>drawn</td>\n",
       "      <td>1-1 (2)</td>\n",
       "      <td>Australia</td>\n",
       "      <td>England</td>\n",
       "      <td>1876</td>\n",
       "      <td>1877</td>\n",
       "      <td>1</td>\n",
       "      <td>1</td>\n",
       "      <td>0</td>\n",
       "      <td>2</td>\n",
       "    </tr>\n",
       "    <tr>\n",
       "      <th>1</th>\n",
       "      <td>686294</td>\n",
       "      <td>/ci/engine/series/60261.html</td>\n",
       "      <td>England in Australia Test Match</td>\n",
       "      <td>1878/79</td>\n",
       "      <td>Australia</td>\n",
       "      <td>1-0 (1)</td>\n",
       "      <td>Australia</td>\n",
       "      <td>England</td>\n",
       "      <td>1878</td>\n",
       "      <td>1879</td>\n",
       "      <td>1</td>\n",
       "      <td>0</td>\n",
       "      <td>0</td>\n",
       "      <td>1</td>\n",
       "    </tr>\n",
       "    <tr>\n",
       "      <th>2</th>\n",
       "      <td>686907</td>\n",
       "      <td>/ci/engine/series/60262.html</td>\n",
       "      <td>Australia in England Test Match</td>\n",
       "      <td>1880</td>\n",
       "      <td>England</td>\n",
       "      <td>1-0 (1)</td>\n",
       "      <td>England</td>\n",
       "      <td>Australia</td>\n",
       "      <td>1880</td>\n",
       "      <td>1880</td>\n",
       "      <td>1</td>\n",
       "      <td>0</td>\n",
       "      <td>0</td>\n",
       "      <td>1</td>\n",
       "    </tr>\n",
       "    <tr>\n",
       "      <th>3</th>\n",
       "      <td>687459</td>\n",
       "      <td>/ci/engine/series/60263.html</td>\n",
       "      <td>England in Australia Test Series</td>\n",
       "      <td>1881/82</td>\n",
       "      <td>Australia</td>\n",
       "      <td>2-0 (4)</td>\n",
       "      <td>Australia</td>\n",
       "      <td>England</td>\n",
       "      <td>1881</td>\n",
       "      <td>1882</td>\n",
       "      <td>2</td>\n",
       "      <td>0</td>\n",
       "      <td>2</td>\n",
       "      <td>4</td>\n",
       "    </tr>\n",
       "    <tr>\n",
       "      <th>4</th>\n",
       "      <td>687627</td>\n",
       "      <td>/ci/engine/series/60264.html</td>\n",
       "      <td>Australia in England Test Match</td>\n",
       "      <td>1882</td>\n",
       "      <td>Australia</td>\n",
       "      <td>1-0 (1)</td>\n",
       "      <td>England</td>\n",
       "      <td>Australia</td>\n",
       "      <td>1882</td>\n",
       "      <td>1882</td>\n",
       "      <td>0</td>\n",
       "      <td>1</td>\n",
       "      <td>0</td>\n",
       "      <td>1</td>\n",
       "    </tr>\n",
       "  </tbody>\n",
       "</table>\n",
       "</div>"
      ],
      "text/plain": [
       "   datadaysID                          link                        teams_text  \\\n",
       "0      685654  /ci/engine/series/60260.html  England in Australia Test Series   \n",
       "1      686294  /ci/engine/series/60261.html   England in Australia Test Match   \n",
       "2      686907  /ci/engine/series/60262.html   Australia in England Test Match   \n",
       "3      687459  /ci/engine/series/60263.html  England in Australia Test Series   \n",
       "4      687627  /ci/engine/series/60264.html   Australia in England Test Match   \n",
       "\n",
       "     years     winner   result       Home       Away  start   end  home_wins  \\\n",
       "0  1876/77      drawn  1-1 (2)  Australia    England   1876  1877          1   \n",
       "1  1878/79  Australia  1-0 (1)  Australia    England   1878  1879          1   \n",
       "2     1880    England  1-0 (1)    England  Australia   1880  1880          1   \n",
       "3  1881/82  Australia  2-0 (4)  Australia    England   1881  1882          2   \n",
       "4     1882  Australia  1-0 (1)    England  Australia   1882  1882          0   \n",
       "\n",
       "   away_wins  matches_drawn  total_matches  \n",
       "0          1              0              2  \n",
       "1          0              0              1  \n",
       "2          0              0              1  \n",
       "3          0              2              4  \n",
       "4          1              0              1  "
      ]
     },
     "execution_count": 32,
     "metadata": {},
     "output_type": "execute_result"
    }
   ],
   "source": [
    "series_df = series.merge(series.apply(lambda x: result_break(x), axis=1), left_index=True, right_index=True)\n",
    "series_df.head()"
   ]
  },
  {
   "cell_type": "markdown",
   "metadata": {},
   "source": [
    "## Retain relevant features"
   ]
  },
  {
   "cell_type": "code",
   "execution_count": 33,
   "metadata": {},
   "outputs": [
    {
     "data": {
      "text/html": [
       "<div>\n",
       "<style scoped>\n",
       "    .dataframe tbody tr th:only-of-type {\n",
       "        vertical-align: middle;\n",
       "    }\n",
       "\n",
       "    .dataframe tbody tr th {\n",
       "        vertical-align: top;\n",
       "    }\n",
       "\n",
       "    .dataframe thead th {\n",
       "        text-align: right;\n",
       "    }\n",
       "</style>\n",
       "<table border=\"1\" class=\"dataframe\">\n",
       "  <thead>\n",
       "    <tr style=\"text-align: right;\">\n",
       "      <th></th>\n",
       "      <th>Home</th>\n",
       "      <th>Away</th>\n",
       "      <th>start</th>\n",
       "      <th>end</th>\n",
       "      <th>winner</th>\n",
       "      <th>home_wins</th>\n",
       "      <th>away_wins</th>\n",
       "      <th>matches_drawn</th>\n",
       "      <th>total_matches</th>\n",
       "    </tr>\n",
       "  </thead>\n",
       "  <tbody>\n",
       "    <tr>\n",
       "      <th>0</th>\n",
       "      <td>Australia</td>\n",
       "      <td>England</td>\n",
       "      <td>1876</td>\n",
       "      <td>1877</td>\n",
       "      <td>drawn</td>\n",
       "      <td>1</td>\n",
       "      <td>1</td>\n",
       "      <td>0</td>\n",
       "      <td>2</td>\n",
       "    </tr>\n",
       "    <tr>\n",
       "      <th>1</th>\n",
       "      <td>Australia</td>\n",
       "      <td>England</td>\n",
       "      <td>1878</td>\n",
       "      <td>1879</td>\n",
       "      <td>Australia</td>\n",
       "      <td>1</td>\n",
       "      <td>0</td>\n",
       "      <td>0</td>\n",
       "      <td>1</td>\n",
       "    </tr>\n",
       "    <tr>\n",
       "      <th>2</th>\n",
       "      <td>England</td>\n",
       "      <td>Australia</td>\n",
       "      <td>1880</td>\n",
       "      <td>1880</td>\n",
       "      <td>England</td>\n",
       "      <td>1</td>\n",
       "      <td>0</td>\n",
       "      <td>0</td>\n",
       "      <td>1</td>\n",
       "    </tr>\n",
       "    <tr>\n",
       "      <th>3</th>\n",
       "      <td>Australia</td>\n",
       "      <td>England</td>\n",
       "      <td>1881</td>\n",
       "      <td>1882</td>\n",
       "      <td>Australia</td>\n",
       "      <td>2</td>\n",
       "      <td>0</td>\n",
       "      <td>2</td>\n",
       "      <td>4</td>\n",
       "    </tr>\n",
       "    <tr>\n",
       "      <th>4</th>\n",
       "      <td>England</td>\n",
       "      <td>Australia</td>\n",
       "      <td>1882</td>\n",
       "      <td>1882</td>\n",
       "      <td>Australia</td>\n",
       "      <td>0</td>\n",
       "      <td>1</td>\n",
       "      <td>0</td>\n",
       "      <td>1</td>\n",
       "    </tr>\n",
       "  </tbody>\n",
       "</table>\n",
       "</div>"
      ],
      "text/plain": [
       "        Home       Away  start   end     winner  home_wins  away_wins  \\\n",
       "0  Australia    England   1876  1877      drawn          1          1   \n",
       "1  Australia    England   1878  1879  Australia          1          0   \n",
       "2    England  Australia   1880  1880    England          1          0   \n",
       "3  Australia    England   1881  1882  Australia          2          0   \n",
       "4    England  Australia   1882  1882  Australia          0          1   \n",
       "\n",
       "   matches_drawn  total_matches  \n",
       "0              0              2  \n",
       "1              0              1  \n",
       "2              0              1  \n",
       "3              2              4  \n",
       "4              0              1  "
      ]
     },
     "execution_count": 33,
     "metadata": {},
     "output_type": "execute_result"
    }
   ],
   "source": [
    "series_df_cleaned = series_df[['Home', 'Away', 'start', 'end', 'winner', 'home_wins', 'away_wins', 'matches_drawn', 'total_matches']]\n",
    "series_df_cleaned.head()"
   ]
  },
  {
   "cell_type": "markdown",
   "metadata": {},
   "source": [
    "### Export cleaned and uncleaned data to csv files"
   ]
  },
  {
   "cell_type": "code",
   "execution_count": 34,
   "metadata": {},
   "outputs": [],
   "source": [
    "# Store the data in csv file\n",
    "\n",
    "#uncleaned df\n",
    "series_df_uncleaned = pd.DataFrame(records, columns=['datadaysID', 'link', 'teams_text', 'years', 'winner', 'result'])\n",
    "series_df_uncleaned.to_csv('test_series_uncleaned')\n",
    "series_df.to_csv('test_series_mix')\n",
    "series_df_cleaned.to_csv('test_series')"
   ]
  },
  {
   "cell_type": "markdown",
   "metadata": {},
   "source": [
    "## Exploratory Data Analysis on cleaned dataset"
   ]
  },
  {
   "cell_type": "code",
   "execution_count": 35,
   "metadata": {},
   "outputs": [
    {
     "name": "stdout",
     "output_type": "stream",
     "text": [
      "<class 'pandas.core.frame.DataFrame'>\n",
      "Int64Index: 730 entries, 0 to 737\n",
      "Data columns (total 9 columns):\n",
      "Home             730 non-null object\n",
      "Away             730 non-null object\n",
      "start            730 non-null int64\n",
      "end              730 non-null int64\n",
      "winner           730 non-null object\n",
      "home_wins        730 non-null int64\n",
      "away_wins        730 non-null int64\n",
      "matches_drawn    730 non-null int64\n",
      "total_matches    730 non-null int64\n",
      "dtypes: int64(6), object(3)\n",
      "memory usage: 77.0+ KB\n"
     ]
    }
   ],
   "source": [
    "series_df_cleaned.info()"
   ]
  },
  {
   "cell_type": "code",
   "execution_count": 36,
   "metadata": {},
   "outputs": [
    {
     "data": {
      "text/html": [
       "<div>\n",
       "<style scoped>\n",
       "    .dataframe tbody tr th:only-of-type {\n",
       "        vertical-align: middle;\n",
       "    }\n",
       "\n",
       "    .dataframe tbody tr th {\n",
       "        vertical-align: top;\n",
       "    }\n",
       "\n",
       "    .dataframe thead th {\n",
       "        text-align: right;\n",
       "    }\n",
       "</style>\n",
       "<table border=\"1\" class=\"dataframe\">\n",
       "  <thead>\n",
       "    <tr style=\"text-align: right;\">\n",
       "      <th></th>\n",
       "      <th>start</th>\n",
       "      <th>end</th>\n",
       "      <th>home_wins</th>\n",
       "      <th>away_wins</th>\n",
       "      <th>matches_drawn</th>\n",
       "      <th>total_matches</th>\n",
       "    </tr>\n",
       "  </thead>\n",
       "  <tbody>\n",
       "    <tr>\n",
       "      <th>count</th>\n",
       "      <td>730.000000</td>\n",
       "      <td>730.000000</td>\n",
       "      <td>730.000000</td>\n",
       "      <td>730.000000</td>\n",
       "      <td>730.000000</td>\n",
       "      <td>730.000000</td>\n",
       "    </tr>\n",
       "    <tr>\n",
       "      <th>mean</th>\n",
       "      <td>1984.858904</td>\n",
       "      <td>1983.909589</td>\n",
       "      <td>1.310959</td>\n",
       "      <td>0.815068</td>\n",
       "      <td>1.041096</td>\n",
       "      <td>3.167123</td>\n",
       "    </tr>\n",
       "    <tr>\n",
       "      <th>std</th>\n",
       "      <td>30.989765</td>\n",
       "      <td>32.791272</td>\n",
       "      <td>1.173795</td>\n",
       "      <td>0.968668</td>\n",
       "      <td>1.117738</td>\n",
       "      <td>1.281723</td>\n",
       "    </tr>\n",
       "    <tr>\n",
       "      <th>min</th>\n",
       "      <td>1876.000000</td>\n",
       "      <td>1877.000000</td>\n",
       "      <td>0.000000</td>\n",
       "      <td>0.000000</td>\n",
       "      <td>0.000000</td>\n",
       "      <td>1.000000</td>\n",
       "    </tr>\n",
       "    <tr>\n",
       "      <th>25%</th>\n",
       "      <td>1972.000000</td>\n",
       "      <td>1970.000000</td>\n",
       "      <td>0.000000</td>\n",
       "      <td>0.000000</td>\n",
       "      <td>0.000000</td>\n",
       "      <td>2.000000</td>\n",
       "    </tr>\n",
       "    <tr>\n",
       "      <th>50%</th>\n",
       "      <td>1996.000000</td>\n",
       "      <td>1995.000000</td>\n",
       "      <td>1.000000</td>\n",
       "      <td>1.000000</td>\n",
       "      <td>1.000000</td>\n",
       "      <td>3.000000</td>\n",
       "    </tr>\n",
       "    <tr>\n",
       "      <th>75%</th>\n",
       "      <td>2007.000000</td>\n",
       "      <td>2007.000000</td>\n",
       "      <td>2.000000</td>\n",
       "      <td>1.000000</td>\n",
       "      <td>2.000000</td>\n",
       "      <td>4.000000</td>\n",
       "    </tr>\n",
       "    <tr>\n",
       "      <th>max</th>\n",
       "      <td>2018.000000</td>\n",
       "      <td>2019.000000</td>\n",
       "      <td>5.000000</td>\n",
       "      <td>5.000000</td>\n",
       "      <td>5.000000</td>\n",
       "      <td>7.000000</td>\n",
       "    </tr>\n",
       "  </tbody>\n",
       "</table>\n",
       "</div>"
      ],
      "text/plain": [
       "             start          end   home_wins   away_wins  matches_drawn  \\\n",
       "count   730.000000   730.000000  730.000000  730.000000     730.000000   \n",
       "mean   1984.858904  1983.909589    1.310959    0.815068       1.041096   \n",
       "std      30.989765    32.791272    1.173795    0.968668       1.117738   \n",
       "min    1876.000000  1877.000000    0.000000    0.000000       0.000000   \n",
       "25%    1972.000000  1970.000000    0.000000    0.000000       0.000000   \n",
       "50%    1996.000000  1995.000000    1.000000    1.000000       1.000000   \n",
       "75%    2007.000000  2007.000000    2.000000    1.000000       2.000000   \n",
       "max    2018.000000  2019.000000    5.000000    5.000000       5.000000   \n",
       "\n",
       "       total_matches  \n",
       "count     730.000000  \n",
       "mean        3.167123  \n",
       "std         1.281723  \n",
       "min         1.000000  \n",
       "25%         2.000000  \n",
       "50%         3.000000  \n",
       "75%         4.000000  \n",
       "max         7.000000  "
      ]
     },
     "execution_count": 36,
     "metadata": {},
     "output_type": "execute_result"
    }
   ],
   "source": [
    "series_df_cleaned.describe()"
   ]
  },
  {
   "cell_type": "markdown",
   "metadata": {},
   "source": [
    "### Few points to note\n",
    "- First test took place in 1876 and ended in 1877\n",
    "- home wins are most common in a series followed by draws. (1.31 and 1.04)\n",
    "- An average of 3 matches were played in a series\n",
    "- There's lot of deviation in team wins and draws\n",
    "- Maximum no of matches played in a series are 7 while minimum is 1\n",
    "- Maximum wins for a home or away is 5"
   ]
  },
  {
   "cell_type": "code",
   "execution_count": 37,
   "metadata": {},
   "outputs": [
    {
     "name": "stdout",
     "output_type": "stream",
     "text": [
      "Teams who haven't won a home game yet : {'Afghanistan'}\n",
      "\n",
      "Teams who haven't won an away game yet : {'Ireland'}\n",
      "\n"
     ]
    }
   ],
   "source": [
    "print(\"Teams who haven't won a home game yet : {}\\n\".format(set(test_playing_nations) - set(series_df_cleaned['Home'].unique())))\n",
    "\n",
    "print(\"Teams who haven't won an away game yet : {}\\n\".format(set(test_playing_nations) - set(series_df_cleaned['Away'].unique())))"
   ]
  },
  {
   "cell_type": "markdown",
   "metadata": {},
   "source": [
    "### Countrywise data"
   ]
  },
  {
   "cell_type": "code",
   "execution_count": 38,
   "metadata": {},
   "outputs": [],
   "source": [
    "series_df_pivot = series_df_cleaned.pivot_table(index=['Home'], columns=['Away'], values=['home_wins', 'away_wins', 'total_matches'], aggfunc=np.mean)"
   ]
  },
  {
   "cell_type": "code",
   "execution_count": 39,
   "metadata": {},
   "outputs": [],
   "source": [
    "import seaborn as sns\n",
    "import matplotlib.pyplot as plt\n",
    "fig, ax = plt.subplots(3, 1, figsize=(10, 18))\n",
    "\n",
    "sns.heatmap(series_df_pivot['total_matches'], cmap='YlOrBr', ax=ax[0])\n",
    "ax[0].set_title('Avg no of matches played between 2 teams (per season)')\n",
    "\n",
    "sns.heatmap(series_df_pivot['home_wins'], cmap='YlOrBr', ax=ax[1])\n",
    "ax[1].set_title('Avg Wins by home team (per season)')\n",
    "\n",
    "sns.heatmap(series_df_pivot['away_wins'], cmap='YlOrBr', ax=ax[2])\n",
    "ax[2].set_title('Avg Wins by Away team (per season)')\n",
    "\n",
    "plt.tight_layout()"
   ]
  },
  {
   "cell_type": "code",
   "execution_count": 40,
   "metadata": {},
   "outputs": [],
   "source": [
    "# lets check for total matches played, wins and draws by a team across years\n",
    "series_home = series_df_cleaned.groupby(['Home', 'start'])['home_wins', 'matches_drawn', 'total_matches'].sum()\n",
    "series_away = series_df_cleaned.groupby(['Away', 'start'])['away_wins', 'matches_drawn', 'total_matches'].sum()"
   ]
  },
  {
   "cell_type": "code",
   "execution_count": 41,
   "metadata": {},
   "outputs": [],
   "source": [
    "df3 = pd.concat([series_home, series_away], axis=1).sort_index()\n",
    "df3 = df3.fillna(0)\n",
    "df3 = df3.groupby(level=0, axis=1).apply(lambda x: x.apply(sum, axis=1))\n",
    "df3['total_wins'] = df3['away_wins'] + df3['home_wins']\n",
    "df3['percent_wins'] = (df3['total_wins']/df3['total_matches'])*100\n",
    "df3 = df3.drop(columns=['away_wins', 'home_wins'])"
   ]
  },
  {
   "cell_type": "code",
   "execution_count": 42,
   "metadata": {},
   "outputs": [
    {
     "data": {
      "text/html": [
       "<div>\n",
       "<style scoped>\n",
       "    .dataframe tbody tr th:only-of-type {\n",
       "        vertical-align: middle;\n",
       "    }\n",
       "\n",
       "    .dataframe tbody tr th {\n",
       "        vertical-align: top;\n",
       "    }\n",
       "\n",
       "    .dataframe thead th {\n",
       "        text-align: right;\n",
       "    }\n",
       "</style>\n",
       "<table border=\"1\" class=\"dataframe\">\n",
       "  <thead>\n",
       "    <tr style=\"text-align: right;\">\n",
       "      <th></th>\n",
       "      <th></th>\n",
       "      <th>matches_drawn</th>\n",
       "      <th>total_matches</th>\n",
       "      <th>total_wins</th>\n",
       "      <th>percent_wins</th>\n",
       "    </tr>\n",
       "    <tr>\n",
       "      <th>Country</th>\n",
       "      <th>Date</th>\n",
       "      <th></th>\n",
       "      <th></th>\n",
       "      <th></th>\n",
       "      <th></th>\n",
       "    </tr>\n",
       "  </thead>\n",
       "  <tbody>\n",
       "    <tr>\n",
       "      <th>Afghanistan</th>\n",
       "      <th>2018-01-01</th>\n",
       "      <td>0.0</td>\n",
       "      <td>1.0</td>\n",
       "      <td>0.0</td>\n",
       "      <td>0.0</td>\n",
       "    </tr>\n",
       "    <tr>\n",
       "      <th rowspan=\"4\" valign=\"top\">Australia</th>\n",
       "      <th>1876-01-01</th>\n",
       "      <td>0.0</td>\n",
       "      <td>2.0</td>\n",
       "      <td>1.0</td>\n",
       "      <td>50.0</td>\n",
       "    </tr>\n",
       "    <tr>\n",
       "      <th>1878-01-01</th>\n",
       "      <td>0.0</td>\n",
       "      <td>1.0</td>\n",
       "      <td>1.0</td>\n",
       "      <td>100.0</td>\n",
       "    </tr>\n",
       "    <tr>\n",
       "      <th>1880-01-01</th>\n",
       "      <td>0.0</td>\n",
       "      <td>1.0</td>\n",
       "      <td>0.0</td>\n",
       "      <td>0.0</td>\n",
       "    </tr>\n",
       "    <tr>\n",
       "      <th>1881-01-01</th>\n",
       "      <td>2.0</td>\n",
       "      <td>4.0</td>\n",
       "      <td>2.0</td>\n",
       "      <td>50.0</td>\n",
       "    </tr>\n",
       "  </tbody>\n",
       "</table>\n",
       "</div>"
      ],
      "text/plain": [
       "                        matches_drawn  total_matches  total_wins  percent_wins\n",
       "Country     Date                                                              \n",
       "Afghanistan 2018-01-01            0.0            1.0         0.0           0.0\n",
       "Australia   1876-01-01            0.0            2.0         1.0          50.0\n",
       "            1878-01-01            0.0            1.0         1.0         100.0\n",
       "            1880-01-01            0.0            1.0         0.0           0.0\n",
       "            1881-01-01            2.0            4.0         2.0          50.0"
      ]
     },
     "execution_count": 42,
     "metadata": {},
     "output_type": "execute_result"
    }
   ],
   "source": [
    "df3.index = df3.index.set_levels([df3.index.levels[0], pd.to_datetime(df3.index.levels[1], format='%Y')])\n",
    "df3.index.names = ['Country', 'Date']\n",
    "df3.head()"
   ]
  },
  {
   "cell_type": "code",
   "execution_count": 43,
   "metadata": {},
   "outputs": [
    {
     "name": "stdout",
     "output_type": "stream",
     "text": [
      "Australia test team  across years\n"
     ]
    },
    {
     "data": {
      "text/html": [
       "<div>\n",
       "<style scoped>\n",
       "    .dataframe tbody tr th:only-of-type {\n",
       "        vertical-align: middle;\n",
       "    }\n",
       "\n",
       "    .dataframe tbody tr th {\n",
       "        vertical-align: top;\n",
       "    }\n",
       "\n",
       "    .dataframe thead th {\n",
       "        text-align: right;\n",
       "    }\n",
       "</style>\n",
       "<table border=\"1\" class=\"dataframe\">\n",
       "  <thead>\n",
       "    <tr style=\"text-align: right;\">\n",
       "      <th></th>\n",
       "      <th>matches_drawn</th>\n",
       "      <th>total_matches</th>\n",
       "      <th>total_wins</th>\n",
       "      <th>percent_wins</th>\n",
       "    </tr>\n",
       "    <tr>\n",
       "      <th>Date</th>\n",
       "      <th></th>\n",
       "      <th></th>\n",
       "      <th></th>\n",
       "      <th></th>\n",
       "    </tr>\n",
       "  </thead>\n",
       "  <tbody>\n",
       "    <tr>\n",
       "      <th>1996-12-31</th>\n",
       "      <td>13.0</td>\n",
       "      <td>53.0</td>\n",
       "      <td>26.0</td>\n",
       "      <td>52.232323</td>\n",
       "    </tr>\n",
       "    <tr>\n",
       "      <th>2001-12-31</th>\n",
       "      <td>12.0</td>\n",
       "      <td>62.0</td>\n",
       "      <td>38.0</td>\n",
       "      <td>62.575092</td>\n",
       "    </tr>\n",
       "    <tr>\n",
       "      <th>2006-12-31</th>\n",
       "      <td>8.0</td>\n",
       "      <td>59.0</td>\n",
       "      <td>45.0</td>\n",
       "      <td>80.570028</td>\n",
       "    </tr>\n",
       "    <tr>\n",
       "      <th>2011-12-31</th>\n",
       "      <td>11.0</td>\n",
       "      <td>55.0</td>\n",
       "      <td>29.0</td>\n",
       "      <td>50.688645</td>\n",
       "    </tr>\n",
       "    <tr>\n",
       "      <th>2016-12-31</th>\n",
       "      <td>9.0</td>\n",
       "      <td>57.0</td>\n",
       "      <td>27.0</td>\n",
       "      <td>44.461538</td>\n",
       "    </tr>\n",
       "    <tr>\n",
       "      <th>2021-12-31</th>\n",
       "      <td>2.0</td>\n",
       "      <td>13.0</td>\n",
       "      <td>6.0</td>\n",
       "      <td>27.272727</td>\n",
       "    </tr>\n",
       "  </tbody>\n",
       "</table>\n",
       "</div>"
      ],
      "text/plain": [
       "            matches_drawn  total_matches  total_wins  percent_wins\n",
       "Date                                                              \n",
       "1996-12-31           13.0           53.0        26.0     52.232323\n",
       "2001-12-31           12.0           62.0        38.0     62.575092\n",
       "2006-12-31            8.0           59.0        45.0     80.570028\n",
       "2011-12-31           11.0           55.0        29.0     50.688645\n",
       "2016-12-31            9.0           57.0        27.0     44.461538\n",
       "2021-12-31            2.0           13.0         6.0     27.272727"
      ]
     },
     "execution_count": 43,
     "metadata": {},
     "output_type": "execute_result"
    }
   ],
   "source": [
    "print('Australia test team  across years')\n",
    "agg_map = {'matches_drawn':'sum', 'total_matches': 'sum', 'total_wins': 'sum', 'percent_wins': 'mean'}\n",
    "df3.loc['Australia'].groupby(pd.Grouper(freq='5A', level=0)).agg(agg_map).tail(6)\n",
    "\n",
    "# df3.groupby(pd.Grouper(freq='10A', level=-1)).agg(agg_map)\n",
    "\n",
    "# pd.to_datetime(df3.index, format='%Y')"
   ]
  },
  {
   "cell_type": "code",
   "execution_count": 44,
   "metadata": {},
   "outputs": [
    {
     "data": {
      "text/plain": [
       "Text(0,0.5,'% of wins for matches played')"
      ]
     },
     "execution_count": 44,
     "metadata": {},
     "output_type": "execute_result"
    },
    {
     "data": {
      "image/png": "[encoded data removed]",
      "text/plain": [
       "<Figure size 864x576 with 1 Axes>"
      ]
     },
     "metadata": {},
     "output_type": "display_data"
    }
   ],
   "source": [
    "# plt.plot(df3.loc['Australia'].groupby(pd.Grouper(freq='5A', level=0))['percent_wins'].mean())\n",
    "\n",
    "fig, ax = plt.subplots(1, 1, figsize=(12, 8))\n",
    "df3.loc['Australia'].groupby(pd.Grouper(freq='10A', level=0))['percent_wins'].mean().plot(use_index=True, figsize=(12, 8))\n",
    "ax.set_title('Australia Tests win percentage')\n",
    "ax.set_xlabel('years')\n",
    "ax.set_ylabel('% of wins for matches played')\n",
    "# df3.loc['Australia']['total_matches'].plot(use_index=True)"
   ]
  },
  {
   "cell_type": "markdown",
   "metadata": {},
   "source": [
    "### 3.1 Univariate Analysis"
   ]
  },
  {
   "cell_type": "code",
   "execution_count": 45,
   "metadata": {},
   "outputs": [
    {
     "data": {
      "text/html": [
       "<div>\n",
       "<style scoped>\n",
       "    .dataframe tbody tr th:only-of-type {\n",
       "        vertical-align: middle;\n",
       "    }\n",
       "\n",
       "    .dataframe tbody tr th {\n",
       "        vertical-align: top;\n",
       "    }\n",
       "\n",
       "    .dataframe thead th {\n",
       "        text-align: right;\n",
       "    }\n",
       "</style>\n",
       "<table border=\"1\" class=\"dataframe\">\n",
       "  <thead>\n",
       "    <tr style=\"text-align: right;\">\n",
       "      <th></th>\n",
       "      <th>Home</th>\n",
       "      <th>Away</th>\n",
       "      <th>start</th>\n",
       "      <th>end</th>\n",
       "      <th>winner</th>\n",
       "      <th>home_wins</th>\n",
       "      <th>away_wins</th>\n",
       "      <th>matches_drawn</th>\n",
       "      <th>total_matches</th>\n",
       "    </tr>\n",
       "  </thead>\n",
       "  <tbody>\n",
       "    <tr>\n",
       "      <th>0</th>\n",
       "      <td>Australia</td>\n",
       "      <td>England</td>\n",
       "      <td>1876</td>\n",
       "      <td>1877</td>\n",
       "      <td>drawn</td>\n",
       "      <td>1</td>\n",
       "      <td>1</td>\n",
       "      <td>0</td>\n",
       "      <td>2</td>\n",
       "    </tr>\n",
       "    <tr>\n",
       "      <th>1</th>\n",
       "      <td>Australia</td>\n",
       "      <td>England</td>\n",
       "      <td>1878</td>\n",
       "      <td>1879</td>\n",
       "      <td>Australia</td>\n",
       "      <td>1</td>\n",
       "      <td>0</td>\n",
       "      <td>0</td>\n",
       "      <td>1</td>\n",
       "    </tr>\n",
       "  </tbody>\n",
       "</table>\n",
       "</div>"
      ],
      "text/plain": [
       "        Home     Away  start   end     winner  home_wins  away_wins  \\\n",
       "0  Australia  England   1876  1877      drawn          1          1   \n",
       "1  Australia  England   1878  1879  Australia          1          0   \n",
       "\n",
       "   matches_drawn  total_matches  \n",
       "0              0              2  \n",
       "1              0              1  "
      ]
     },
     "execution_count": 45,
     "metadata": {},
     "output_type": "execute_result"
    }
   ],
   "source": [
    "series_df_cleaned.head(2)"
   ]
  }
 ],
 "metadata": {
  "kernelspec": {
   "display_name": "Python 3",
   "language": "python",
   "name": "python3"
  },
  "language_info": {
   "codemirror_mode": {
    "name": "ipython",
    "version": 3
   },
   "file_extension": ".py",
   "mimetype": "text/x-python",
   "name": "python",
   "nbconvert_exporter": "python",
   "pygments_lexer": "ipython3",
   "version": "3.6.5"
  }
 },
 "nbformat": 4,
 "nbformat_minor": 2
}
